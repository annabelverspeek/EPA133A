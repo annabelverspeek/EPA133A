{
 "cells": [
  {
   "cell_type": "code",
   "execution_count": 34,
   "id": "initial_id",
   "metadata": {
    "collapsed": true,
    "ExecuteTime": {
     "end_time": "2024-03-29T14:40:16.604383700Z",
     "start_time": "2024-03-29T14:39:41.193408700Z"
    }
   },
   "outputs": [],
   "source": [
    "import os\n",
    "import pandas as pd\n",
    "\n",
    "# Define the path to the folder\n",
    "path = 'RMMS/'\n",
    "\n",
    "# Get a list of all files in the folder\n",
    "files = [f for f in os.listdir(path) if f.endswith('.lrps.htm')]\n",
    "\n",
    "# Initialize an empty list to store DataFrames\n",
    "dfs = []\n",
    "\n",
    "# Loop through each file\n",
    "for file in files:\n",
    "    # Read HTML tables into a list of DataFrames\n",
    "    tables = pd.read_html(os.path.join(path, file))\n",
    "    \n",
    "    # Combine all tables into a single DataFrame\n",
    "    df = pd.concat(tables)\n",
    "    \n",
    "    # Remove the first row and rows above row 9\n",
    "    df = df.iloc[9:].reset_index(drop=True)\n",
    "    \n",
    "    # Set the correct header using the values from row 9\n",
    "    df.columns = df.iloc[0]\n",
    "    \n",
    "    # Drop the now redundant row 9\n",
    "    df = df.iloc[1:].reset_index(drop=True)\n",
    "    \n",
    "    # Drop the first and last columns\n",
    "    df = df.iloc[:, 1:-1]\n",
    "    \n",
    "    # Add a new column for road number\n",
    "    road_number = file.split('.')[0]  # Extract road number from file name\n",
    "    df['road_number'] = road_number\n",
    "    \n",
    "    # Append the DataFrame to the list\n",
    "    dfs.append(df)\n",
    "\n",
    "# Concatenate all DataFrames into one\n",
    "combined_df = pd.concat(dfs, ignore_index=True)\n",
    "\n",
    "# Save the combined DataFrame to a CSV file\n",
    "combined_df.to_csv('combined_lrps.csv', index=False)\n"
   ]
  },
  {
   "cell_type": "code",
   "execution_count": 37,
   "outputs": [],
   "source": [
    "combined_df.shape\n",
    "combined_df.to_csv('RMMS/combined_lrps.csv', index=False)"
   ],
   "metadata": {
    "collapsed": false,
    "ExecuteTime": {
     "end_time": "2024-03-29T14:44:23.925598800Z",
     "start_time": "2024-03-29T14:44:23.355063Z"
    }
   },
   "id": "fe23cedf5d577c58"
  },
  {
   "cell_type": "code",
   "execution_count": 22,
   "outputs": [],
   "source": [],
   "metadata": {
    "collapsed": false,
    "ExecuteTime": {
     "end_time": "2024-03-29T14:35:46.712076900Z",
     "start_time": "2024-03-29T14:35:46.703508800Z"
    }
   },
   "id": "7bd0bcce64ab4ec5"
  },
  {
   "cell_type": "code",
   "execution_count": null,
   "outputs": [],
   "source": [],
   "metadata": {
    "collapsed": false
   },
   "id": "5eb02de68fdad660"
  }
 ],
 "metadata": {
  "kernelspec": {
   "display_name": "Python 3",
   "language": "python",
   "name": "python3"
  },
  "language_info": {
   "codemirror_mode": {
    "name": "ipython",
    "version": 2
   },
   "file_extension": ".py",
   "mimetype": "text/x-python",
   "name": "python",
   "nbconvert_exporter": "python",
   "pygments_lexer": "ipython2",
   "version": "2.7.6"
  }
 },
 "nbformat": 4,
 "nbformat_minor": 5
}
