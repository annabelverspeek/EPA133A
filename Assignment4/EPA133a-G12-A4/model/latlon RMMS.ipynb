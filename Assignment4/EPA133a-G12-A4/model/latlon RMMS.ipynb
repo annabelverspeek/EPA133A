{
 "cells": [
  {
   "cell_type": "code",
   "execution_count": 28,
   "id": "initial_id",
   "metadata": {
    "collapsed": true,
    "ExecuteTime": {
     "end_time": "2024-04-02T08:58:53.706955700Z",
     "start_time": "2024-04-02T08:58:53.675673500Z"
    }
   },
   "outputs": [
    {
     "ename": "FileNotFoundError",
     "evalue": "[WinError 3] Het systeem kan het opgegeven pad niet vinden: 'RMMS/'",
     "output_type": "error",
     "traceback": [
      "\u001B[1;31m---------------------------------------------------------------------------\u001B[0m",
      "\u001B[1;31mFileNotFoundError\u001B[0m                         Traceback (most recent call last)",
      "Cell \u001B[1;32mIn[28], line 8\u001B[0m\n\u001B[0;32m      5\u001B[0m path \u001B[38;5;241m=\u001B[39m \u001B[38;5;124m'\u001B[39m\u001B[38;5;124mRMMS/\u001B[39m\u001B[38;5;124m'\u001B[39m\n\u001B[0;32m      7\u001B[0m \u001B[38;5;66;03m# Get a list of all files in the folder\u001B[39;00m\n\u001B[1;32m----> 8\u001B[0m files \u001B[38;5;241m=\u001B[39m [f \u001B[38;5;28;01mfor\u001B[39;00m f \u001B[38;5;129;01min\u001B[39;00m \u001B[43mos\u001B[49m\u001B[38;5;241;43m.\u001B[39;49m\u001B[43mlistdir\u001B[49m\u001B[43m(\u001B[49m\u001B[43mpath\u001B[49m\u001B[43m)\u001B[49m \u001B[38;5;28;01mif\u001B[39;00m f\u001B[38;5;241m.\u001B[39mendswith(\u001B[38;5;124m'\u001B[39m\u001B[38;5;124m.lrps.htm\u001B[39m\u001B[38;5;124m'\u001B[39m)]\n\u001B[0;32m     10\u001B[0m \u001B[38;5;66;03m# Initialize an empty list to store DataFrames\u001B[39;00m\n\u001B[0;32m     11\u001B[0m dfs \u001B[38;5;241m=\u001B[39m []\n",
      "\u001B[1;31mFileNotFoundError\u001B[0m: [WinError 3] Het systeem kan het opgegeven pad niet vinden: 'RMMS/'"
     ]
    }
   ],
   "source": [
    "import os\n",
    "import pandas as pd\n",
    "\n",
    "# Define the path to the folder\n",
    "path = 'RMMS/'\n",
    "\n",
    "# Get a list of all files in the folder\n",
    "files = [f for f in os.listdir(path) if f.endswith('.lrps.htm')]\n",
    "\n",
    "# Initialize an empty list to store DataFrames\n",
    "dfs = []\n",
    "\n",
    "# Loop through each file\n",
    "for file in files:\n",
    "    # Read HTML tables into a list of DataFrames\n",
    "    tables = pd.read_html(os.path.join(path, file))\n",
    "    \n",
    "    # Combine all tables into a single DataFrame\n",
    "    df = pd.concat(tables)\n",
    "    \n",
    "    # Remove the first row and rows above row 9\n",
    "    df = df.iloc[9:].reset_index(drop=True)\n",
    "    \n",
    "    # Set the correct header using the values from row 9\n",
    "    df.columns = df.iloc[0]\n",
    "    \n",
    "    # Drop the now redundant row 9\n",
    "    df = df.iloc[1:].reset_index(drop=True)\n",
    "    \n",
    "    # Drop the first and last columns\n",
    "    df = df.iloc[:, 1:-1]\n",
    "    \n",
    "    # Add a new column for road number\n",
    "    road_number = file.split('.')[0]  # Extract road number from file name\n",
    "    df['road_number'] = road_number\n",
    "    \n",
    "    # Append the DataFrame to the list\n",
    "    dfs.append(df)\n",
    "\n",
    "# Concatenate all DataFrames into one\n",
    "combined_df = pd.concat(dfs, ignore_index=True)\n",
    "\n",
    "# Save the combined DataFrame to a CSV file\n",
    "combined_df.to_csv('combined_lrps.csv', index=False)\n"
   ]
  },
  {
   "cell_type": "code",
   "execution_count": 27,
   "outputs": [
    {
     "ename": "NameError",
     "evalue": "name 'combined_df' is not defined",
     "output_type": "error",
     "traceback": [
      "\u001B[1;31m---------------------------------------------------------------------------\u001B[0m",
      "\u001B[1;31mNameError\u001B[0m                                 Traceback (most recent call last)",
      "Cell \u001B[1;32mIn[27], line 1\u001B[0m\n\u001B[1;32m----> 1\u001B[0m \u001B[43mcombined_df\u001B[49m\u001B[38;5;241m.\u001B[39mshape\n\u001B[0;32m      2\u001B[0m combined_df\u001B[38;5;241m.\u001B[39mto_csv(\u001B[38;5;124m'\u001B[39m\u001B[38;5;124mRMMS/combined_lrps.csv\u001B[39m\u001B[38;5;124m'\u001B[39m, index\u001B[38;5;241m=\u001B[39m\u001B[38;5;28;01mFalse\u001B[39;00m)\n",
      "\u001B[1;31mNameError\u001B[0m: name 'combined_df' is not defined"
     ]
    }
   ],
   "source": [
    "combined_df.shape\n",
    "combined_df.to_csv('RMMS/combined_lrps.csv', index=False)"
   ],
   "metadata": {
    "collapsed": false,
    "ExecuteTime": {
     "end_time": "2024-04-02T08:58:51.995809900Z",
     "start_time": "2024-04-02T08:58:51.932898100Z"
    }
   },
   "id": "fe23cedf5d577c58"
  },
  {
   "cell_type": "code",
   "execution_count": 9,
   "outputs": [
    {
     "data": {
      "text/plain": "  road                                            name   LRP  Offset  \\\n0   N1        Jatrabari - Int.with Z1101 (Left) (Left)  LRPS       0   \n1   N1       Jatrabari - Int.with Z1101 (Left) (Right)  LRPS       0   \n2   N1   Int.with Z1101 - Signboard (Left) R111 (Left)  LRPS     822   \n3   N1  Int.with Z1101 - Signboard (Left) R111 (Right)  LRPS     822   \n4   N1          Signboard - Shimrail (Left)R110 (Left)  LRPS    4175   \n\n   Chainage LRP.1  Offset.1  Chainage.1   (Km) Heavy Truck  ...     Car  \\\n0     0.000  LRPS       822       0.822  0.822       402.0  ...  1851.0   \n1     0.000  LRPS       822       0.822  0.822       660.0  ...  2608.0   \n2     0.822  LRPS      4175       4.175  3.353       660.0  ...  2608.0   \n3     0.822  LRPS      4175       4.175  3.353       402.0  ...  1851.0   \n4     4.175  LRPS      7181       7.181  3.006        91.0  ...  1690.0   \n\n  Auto Rickshaw Motor Cycle Bi-Cycle Cycle Rickshaw Cart Motorized  \\\n0        2980.0       398.0    232.0          889.0  0.0   18236.0   \n1        2508.0       436.0    213.0         1088.0  0.0   20236.0   \n2        2508.0       436.0    213.0         1088.0  0.0   20236.0   \n3        2980.0       398.0    232.0          889.0  0.0   18236.0   \n4        2266.0      1087.0     75.0         1198.0  0.0   16288.0   \n\n  Non Motorized Total AADT   (AADT)  \n0        1121.0    19357.0  19357.0  \n1        1301.0    21537.0  21537.0  \n2        1301.0    21537.0  21537.0  \n3        1121.0    19357.0  19357.0  \n4        1273.0    17561.0  17561.0  \n\n[5 rows x 26 columns]",
      "text/html": "<div>\n<style scoped>\n    .dataframe tbody tr th:only-of-type {\n        vertical-align: middle;\n    }\n\n    .dataframe tbody tr th {\n        vertical-align: top;\n    }\n\n    .dataframe thead th {\n        text-align: right;\n    }\n</style>\n<table border=\"1\" class=\"dataframe\">\n  <thead>\n    <tr style=\"text-align: right;\">\n      <th></th>\n      <th>road</th>\n      <th>name</th>\n      <th>LRP</th>\n      <th>Offset</th>\n      <th>Chainage</th>\n      <th>LRP.1</th>\n      <th>Offset.1</th>\n      <th>Chainage.1</th>\n      <th>(Km)</th>\n      <th>Heavy Truck</th>\n      <th>...</th>\n      <th>Car</th>\n      <th>Auto Rickshaw</th>\n      <th>Motor Cycle</th>\n      <th>Bi-Cycle</th>\n      <th>Cycle Rickshaw</th>\n      <th>Cart</th>\n      <th>Motorized</th>\n      <th>Non Motorized</th>\n      <th>Total AADT</th>\n      <th>(AADT)</th>\n    </tr>\n  </thead>\n  <tbody>\n    <tr>\n      <th>0</th>\n      <td>N1</td>\n      <td>Jatrabari - Int.with Z1101 (Left) (Left)</td>\n      <td>LRPS</td>\n      <td>0</td>\n      <td>0.000</td>\n      <td>LRPS</td>\n      <td>822</td>\n      <td>0.822</td>\n      <td>0.822</td>\n      <td>402.0</td>\n      <td>...</td>\n      <td>1851.0</td>\n      <td>2980.0</td>\n      <td>398.0</td>\n      <td>232.0</td>\n      <td>889.0</td>\n      <td>0.0</td>\n      <td>18236.0</td>\n      <td>1121.0</td>\n      <td>19357.0</td>\n      <td>19357.0</td>\n    </tr>\n    <tr>\n      <th>1</th>\n      <td>N1</td>\n      <td>Jatrabari - Int.with Z1101 (Left) (Right)</td>\n      <td>LRPS</td>\n      <td>0</td>\n      <td>0.000</td>\n      <td>LRPS</td>\n      <td>822</td>\n      <td>0.822</td>\n      <td>0.822</td>\n      <td>660.0</td>\n      <td>...</td>\n      <td>2608.0</td>\n      <td>2508.0</td>\n      <td>436.0</td>\n      <td>213.0</td>\n      <td>1088.0</td>\n      <td>0.0</td>\n      <td>20236.0</td>\n      <td>1301.0</td>\n      <td>21537.0</td>\n      <td>21537.0</td>\n    </tr>\n    <tr>\n      <th>2</th>\n      <td>N1</td>\n      <td>Int.with Z1101 - Signboard (Left) R111 (Left)</td>\n      <td>LRPS</td>\n      <td>822</td>\n      <td>0.822</td>\n      <td>LRPS</td>\n      <td>4175</td>\n      <td>4.175</td>\n      <td>3.353</td>\n      <td>660.0</td>\n      <td>...</td>\n      <td>2608.0</td>\n      <td>2508.0</td>\n      <td>436.0</td>\n      <td>213.0</td>\n      <td>1088.0</td>\n      <td>0.0</td>\n      <td>20236.0</td>\n      <td>1301.0</td>\n      <td>21537.0</td>\n      <td>21537.0</td>\n    </tr>\n    <tr>\n      <th>3</th>\n      <td>N1</td>\n      <td>Int.with Z1101 - Signboard (Left) R111 (Right)</td>\n      <td>LRPS</td>\n      <td>822</td>\n      <td>0.822</td>\n      <td>LRPS</td>\n      <td>4175</td>\n      <td>4.175</td>\n      <td>3.353</td>\n      <td>402.0</td>\n      <td>...</td>\n      <td>1851.0</td>\n      <td>2980.0</td>\n      <td>398.0</td>\n      <td>232.0</td>\n      <td>889.0</td>\n      <td>0.0</td>\n      <td>18236.0</td>\n      <td>1121.0</td>\n      <td>19357.0</td>\n      <td>19357.0</td>\n    </tr>\n    <tr>\n      <th>4</th>\n      <td>N1</td>\n      <td>Signboard - Shimrail (Left)R110 (Left)</td>\n      <td>LRPS</td>\n      <td>4175</td>\n      <td>4.175</td>\n      <td>LRPS</td>\n      <td>7181</td>\n      <td>7.181</td>\n      <td>3.006</td>\n      <td>91.0</td>\n      <td>...</td>\n      <td>1690.0</td>\n      <td>2266.0</td>\n      <td>1087.0</td>\n      <td>75.0</td>\n      <td>1198.0</td>\n      <td>0.0</td>\n      <td>16288.0</td>\n      <td>1273.0</td>\n      <td>17561.0</td>\n      <td>17561.0</td>\n    </tr>\n  </tbody>\n</table>\n<p>5 rows × 26 columns</p>\n</div>"
     },
     "execution_count": 9,
     "metadata": {},
     "output_type": "execute_result"
    }
   ],
   "source": [
    "import pandas as pd\n",
    "\n",
    "traffic_df = pd.read_csv('traffic.csv')\n",
    "traffic_df.head()"
   ],
   "metadata": {
    "collapsed": false,
    "ExecuteTime": {
     "end_time": "2024-04-01T17:49:25.567912800Z",
     "start_time": "2024-04-01T17:49:25.503612900Z"
    }
   },
   "id": "7bd0bcce64ab4ec5"
  },
  {
   "cell_type": "code",
   "execution_count": 56,
   "outputs": [
    {
     "name": "stdout",
     "output_type": "stream",
     "text": [
      "(2066, 26)\n"
     ]
    }
   ],
   "source": [
    "traffic_df= traffic_df.rename(columns = { 'LRP':'LRP Start', 'Offset': 'Offset Start', 'Chainage':'Chainage Start', 'LRP.1':'LRP End', 'Offset.1': 'Offset End', 'Chainage.1':'Chainage End'})\n",
    "print(traffic_df.shape)\n"
   ],
   "metadata": {
    "collapsed": false,
    "ExecuteTime": {
     "end_time": "2024-04-02T09:39:02.072629300Z",
     "start_time": "2024-04-02T09:39:02.057004800Z"
    }
   },
   "id": "5eb02de68fdad660"
  },
  {
   "cell_type": "code",
   "execution_count": 21,
   "outputs": [],
   "source": [
    "# Combining the different dataframes into one so we have the lat/lon values combined with the AADT values so we can calculate the different economic values for the road parts.  \n",
    "combined_lrps = pd.read_csv('combined_lrps.csv')\n",
    "\n",
    "latlonload = pd.merge(traffic_df, combined_lrps, left_on=['LRP Start','road'], right_on=['LRP No', 'road_number'] )"
   ],
   "metadata": {
    "collapsed": false,
    "ExecuteTime": {
     "end_time": "2024-04-02T07:23:28.146368800Z",
     "start_time": "2024-04-02T07:23:27.785339Z"
    }
   },
   "id": "7114780687549dcc"
  },
  {
   "cell_type": "code",
   "execution_count": 31,
   "outputs": [],
   "source": [
    "#When merging we got 3 rows of each entry, we have dropped the duplicates below to ensure we do not get double entries.\n",
    "latlonload = latlonload.drop_duplicates()\n",
    "latlonload.to_csv('latlonloads.csv')"
   ],
   "metadata": {
    "collapsed": false,
    "ExecuteTime": {
     "end_time": "2024-04-02T09:03:11.180025900Z",
     "start_time": "2024-04-02T09:03:11.117082800Z"
    }
   },
   "id": "ad0fdec97727faa4"
  },
  {
   "cell_type": "code",
   "execution_count": 61,
   "outputs": [],
   "source": [
    "#To calculate the economic value of a roadpart, we have to assign economic value to different vehicle types. Afterwards we will multiply these values with the amount of sightings on each road to compute the economic value of a road. The logic behind the values is that for example trucks are able to carry a lot of goods, busses a lot of people and smaller vehicles are more individual focussed, hence the smaller economic impact. It should be noted that these are all estimates as we were unable to find research on the marginal economic impact of these vehicle types. \n",
    "\n",
    "# Define economic value vehicles dictionary\n",
    "economic_value_vehicles = {'Heavy Truck':10, 'Medium Truck': 8, 'Small Truck':7, 'Large Bus':7, 'Medium Bus':6,\n",
    "                           'Micro Bus':5, 'Utility':3, 'Car':3, 'Auto Rickshaw':2, 'Motor Cycle': 1,\n",
    "                           'Bi-Cycle':0.5, 'Cycle Rickshaw':1, 'Cart':1}\n",
    "\n",
    "# Define a function to check if a value can be converted to float\n",
    "def is_float(x):\n",
    "    try:\n",
    "        float(x)\n",
    "        return True\n",
    "    except ValueError:\n",
    "        return False\n",
    "\n",
    "# Apply the function to each element of the DataFrame\n",
    "for col in economic_df.columns:\n",
    "    non_numeric_values = economic_df[col][~economic_df[col].apply(is_float)]\n",
    "    if not non_numeric_values.empty:\n",
    "        print(f\"Non-numeric values in column '{col}':\")\n",
    "        print(non_numeric_values)\n",
    "\n",
    "# Drop rows containing 'NS' values because there were rows with only NS values where floats were supposed to be.\n",
    "latlonload = latlonload[~latlonload.apply(lambda row: (row == 'NS').any(), axis=1)]\n",
    "\n"
   ],
   "metadata": {
    "collapsed": false,
    "ExecuteTime": {
     "end_time": "2024-04-02T09:48:26.910423400Z",
     "start_time": "2024-04-02T09:48:26.769405500Z"
    }
   },
   "id": "870b7f3c007cd359"
  },
  {
   "cell_type": "code",
   "execution_count": 62,
   "outputs": [
    {
     "data": {
      "text/plain": "       road                                               name LRP Start  \\\n6162  Z8909               Char Fession (Int.with R890) - Betua      LRPS   \n6165  Z8913               Debirchar - Lalmohon (Int.with R890)      LRPS   \n6168  Z8913  Lalmohon (Int.with R890) - Tazumuddin (Int.wit...      LRPS   \n6171  Z8915             Bagmara - Bangla Bazar (Int.with R890)      LRPS   \n6174  Z8915      Bangla Bazar (Int.with R890) - Int.with Z8916    LRP004   \n6177  Z8915                        Int.with Z8916 - Daulatkhan    LRP010   \n6180  Z8916        Guingerhat (Int.with R890) - Int.with Z8915      LRPS   \n6183  Z8916                  Int.with Z8915 - Daulatkhan Bazar    LRP004   \n6186  Z8943  Tazumuddin (Int.with Z8905) - Fakirhat (Int.wi...      LRPS   \n6189  Z8943  Fakirhat (Int.with Z8948) - Kungerhat (Int.wit...      LRPS   \n\n      Offset Start  Chainage Start LRP End  Offset End  Chainage End    (Km)  \\\n6162             0           0.000  LRP006         952         7.002   7.002   \n6165             0           0.000    LRPS       11325        11.325  11.325   \n6168         11325          11.325    LRPS       26505        26.505  15.180   \n6171             0           0.000  LRP004        1020         4.350   4.350   \n6174          1020           4.350  LRP010        1150        10.470   6.120   \n6177          1150          10.470  LRP014        2290        15.660   5.190   \n6180             0           0.000  LRP004        3626         7.626   7.626   \n6183          3626           7.626  LRP005        6600        11.591   3.965   \n6186             0           0.000    LRPS        6446         6.446   6.446   \n6189          6446           6.446    LRPS        8800         8.800   2.354   \n\n     Heavy Truck  ... Total AADT  (AADT)  LRP No Road Chainage LRP TYPE  \\\n6162         0.0  ...     3991.0  3991.0    LRPS             0   Others   \n6165        24.0  ...     6344.0  6344.0    LRPS             0   Others   \n6168         0.0  ...     2418.0  2418.0    LRPS             0   Others   \n6171         0.0  ...     3522.0  3522.0    LRPS             0   Others   \n6174         0.0  ...     3117.0  3117.0  LRP004         3.366  Km Post   \n6177         0.0  ...     3117.0  3117.0  LRP010         9.376  Km Post   \n6180         0.0  ...     2440.0  2440.0    LRPS             0   Others   \n6183         0.0  ...     2440.0  2440.0  LRP004             4  Km Post   \n6186         0.0  ...     3083.0  3083.0    LRPS             0   Others   \n6189         0.0  ...     3083.0  3083.0    LRPS             0   Others   \n\n                                            Description Latitude Decimal  \\\n6162    Start from R890 at Thana road more char fassion        22.185833   \n6165   Start of debir char high school , Lalmohon Bhola        22.396083   \n6168   Start of debir char high school , Lalmohon Bhola        22.396083   \n6171           Start at Bagmara Infront of Launch Ghat.       22.5893886   \n6174                                        Inf missing       22.5926941   \n6177                                        Inf missing       22.6011389   \n6180          Start from R890 at Guingerhat Bazar Dhola       22.6254993   \n6183                                Information missing       22.6189716   \n6186  Start at intersection of Z8905 /BC joint infro...       22.4264438   \n6189  Start at intersection of Z8905 /BC joint infro...       22.4264438   \n\n     Longitued Decimal road_number      EVV  \n6162          90.76025       Z8909   5192.5  \n6165        90.6886663       Z8913  10778.0  \n6168        90.6886663       Z8913   3108.0  \n6171        90.6194716       Z8915   7911.0  \n6174        90.6494719       Z8915   6379.0  \n6177        90.7048333       Z8915   6379.0  \n6180        90.6617222       Z8916   3553.5  \n6183        90.6941108       Z8916   3553.5  \n6186        90.8494719       Z8943   5651.0  \n6189        90.8494719       Z8943   5651.0  \n\n[10 rows x 34 columns]",
      "text/html": "<div>\n<style scoped>\n    .dataframe tbody tr th:only-of-type {\n        vertical-align: middle;\n    }\n\n    .dataframe tbody tr th {\n        vertical-align: top;\n    }\n\n    .dataframe thead th {\n        text-align: right;\n    }\n</style>\n<table border=\"1\" class=\"dataframe\">\n  <thead>\n    <tr style=\"text-align: right;\">\n      <th></th>\n      <th>road</th>\n      <th>name</th>\n      <th>LRP Start</th>\n      <th>Offset Start</th>\n      <th>Chainage Start</th>\n      <th>LRP End</th>\n      <th>Offset End</th>\n      <th>Chainage End</th>\n      <th>(Km)</th>\n      <th>Heavy Truck</th>\n      <th>...</th>\n      <th>Total AADT</th>\n      <th>(AADT)</th>\n      <th>LRP No</th>\n      <th>Road Chainage</th>\n      <th>LRP TYPE</th>\n      <th>Description</th>\n      <th>Latitude Decimal</th>\n      <th>Longitued Decimal</th>\n      <th>road_number</th>\n      <th>EVV</th>\n    </tr>\n  </thead>\n  <tbody>\n    <tr>\n      <th>6162</th>\n      <td>Z8909</td>\n      <td>Char Fession (Int.with R890) - Betua</td>\n      <td>LRPS</td>\n      <td>0</td>\n      <td>0.000</td>\n      <td>LRP006</td>\n      <td>952</td>\n      <td>7.002</td>\n      <td>7.002</td>\n      <td>0.0</td>\n      <td>...</td>\n      <td>3991.0</td>\n      <td>3991.0</td>\n      <td>LRPS</td>\n      <td>0</td>\n      <td>Others</td>\n      <td>Start from R890 at Thana road more char fassion</td>\n      <td>22.185833</td>\n      <td>90.76025</td>\n      <td>Z8909</td>\n      <td>5192.5</td>\n    </tr>\n    <tr>\n      <th>6165</th>\n      <td>Z8913</td>\n      <td>Debirchar - Lalmohon (Int.with R890)</td>\n      <td>LRPS</td>\n      <td>0</td>\n      <td>0.000</td>\n      <td>LRPS</td>\n      <td>11325</td>\n      <td>11.325</td>\n      <td>11.325</td>\n      <td>24.0</td>\n      <td>...</td>\n      <td>6344.0</td>\n      <td>6344.0</td>\n      <td>LRPS</td>\n      <td>0</td>\n      <td>Others</td>\n      <td>Start of debir char high school , Lalmohon Bhola</td>\n      <td>22.396083</td>\n      <td>90.6886663</td>\n      <td>Z8913</td>\n      <td>10778.0</td>\n    </tr>\n    <tr>\n      <th>6168</th>\n      <td>Z8913</td>\n      <td>Lalmohon (Int.with R890) - Tazumuddin (Int.wit...</td>\n      <td>LRPS</td>\n      <td>11325</td>\n      <td>11.325</td>\n      <td>LRPS</td>\n      <td>26505</td>\n      <td>26.505</td>\n      <td>15.180</td>\n      <td>0.0</td>\n      <td>...</td>\n      <td>2418.0</td>\n      <td>2418.0</td>\n      <td>LRPS</td>\n      <td>0</td>\n      <td>Others</td>\n      <td>Start of debir char high school , Lalmohon Bhola</td>\n      <td>22.396083</td>\n      <td>90.6886663</td>\n      <td>Z8913</td>\n      <td>3108.0</td>\n    </tr>\n    <tr>\n      <th>6171</th>\n      <td>Z8915</td>\n      <td>Bagmara - Bangla Bazar (Int.with R890)</td>\n      <td>LRPS</td>\n      <td>0</td>\n      <td>0.000</td>\n      <td>LRP004</td>\n      <td>1020</td>\n      <td>4.350</td>\n      <td>4.350</td>\n      <td>0.0</td>\n      <td>...</td>\n      <td>3522.0</td>\n      <td>3522.0</td>\n      <td>LRPS</td>\n      <td>0</td>\n      <td>Others</td>\n      <td>Start at Bagmara Infront of Launch Ghat.</td>\n      <td>22.5893886</td>\n      <td>90.6194716</td>\n      <td>Z8915</td>\n      <td>7911.0</td>\n    </tr>\n    <tr>\n      <th>6174</th>\n      <td>Z8915</td>\n      <td>Bangla Bazar (Int.with R890) - Int.with Z8916</td>\n      <td>LRP004</td>\n      <td>1020</td>\n      <td>4.350</td>\n      <td>LRP010</td>\n      <td>1150</td>\n      <td>10.470</td>\n      <td>6.120</td>\n      <td>0.0</td>\n      <td>...</td>\n      <td>3117.0</td>\n      <td>3117.0</td>\n      <td>LRP004</td>\n      <td>3.366</td>\n      <td>Km Post</td>\n      <td>Inf missing</td>\n      <td>22.5926941</td>\n      <td>90.6494719</td>\n      <td>Z8915</td>\n      <td>6379.0</td>\n    </tr>\n    <tr>\n      <th>6177</th>\n      <td>Z8915</td>\n      <td>Int.with Z8916 - Daulatkhan</td>\n      <td>LRP010</td>\n      <td>1150</td>\n      <td>10.470</td>\n      <td>LRP014</td>\n      <td>2290</td>\n      <td>15.660</td>\n      <td>5.190</td>\n      <td>0.0</td>\n      <td>...</td>\n      <td>3117.0</td>\n      <td>3117.0</td>\n      <td>LRP010</td>\n      <td>9.376</td>\n      <td>Km Post</td>\n      <td>Inf missing</td>\n      <td>22.6011389</td>\n      <td>90.7048333</td>\n      <td>Z8915</td>\n      <td>6379.0</td>\n    </tr>\n    <tr>\n      <th>6180</th>\n      <td>Z8916</td>\n      <td>Guingerhat (Int.with R890) - Int.with Z8915</td>\n      <td>LRPS</td>\n      <td>0</td>\n      <td>0.000</td>\n      <td>LRP004</td>\n      <td>3626</td>\n      <td>7.626</td>\n      <td>7.626</td>\n      <td>0.0</td>\n      <td>...</td>\n      <td>2440.0</td>\n      <td>2440.0</td>\n      <td>LRPS</td>\n      <td>0</td>\n      <td>Others</td>\n      <td>Start from R890 at Guingerhat Bazar Dhola</td>\n      <td>22.6254993</td>\n      <td>90.6617222</td>\n      <td>Z8916</td>\n      <td>3553.5</td>\n    </tr>\n    <tr>\n      <th>6183</th>\n      <td>Z8916</td>\n      <td>Int.with Z8915 - Daulatkhan Bazar</td>\n      <td>LRP004</td>\n      <td>3626</td>\n      <td>7.626</td>\n      <td>LRP005</td>\n      <td>6600</td>\n      <td>11.591</td>\n      <td>3.965</td>\n      <td>0.0</td>\n      <td>...</td>\n      <td>2440.0</td>\n      <td>2440.0</td>\n      <td>LRP004</td>\n      <td>4</td>\n      <td>Km Post</td>\n      <td>Information missing</td>\n      <td>22.6189716</td>\n      <td>90.6941108</td>\n      <td>Z8916</td>\n      <td>3553.5</td>\n    </tr>\n    <tr>\n      <th>6186</th>\n      <td>Z8943</td>\n      <td>Tazumuddin (Int.with Z8905) - Fakirhat (Int.wi...</td>\n      <td>LRPS</td>\n      <td>0</td>\n      <td>0.000</td>\n      <td>LRPS</td>\n      <td>6446</td>\n      <td>6.446</td>\n      <td>6.446</td>\n      <td>0.0</td>\n      <td>...</td>\n      <td>3083.0</td>\n      <td>3083.0</td>\n      <td>LRPS</td>\n      <td>0</td>\n      <td>Others</td>\n      <td>Start at intersection of Z8905 /BC joint infro...</td>\n      <td>22.4264438</td>\n      <td>90.8494719</td>\n      <td>Z8943</td>\n      <td>5651.0</td>\n    </tr>\n    <tr>\n      <th>6189</th>\n      <td>Z8943</td>\n      <td>Fakirhat (Int.with Z8948) - Kungerhat (Int.wit...</td>\n      <td>LRPS</td>\n      <td>6446</td>\n      <td>6.446</td>\n      <td>LRPS</td>\n      <td>8800</td>\n      <td>8.800</td>\n      <td>2.354</td>\n      <td>0.0</td>\n      <td>...</td>\n      <td>3083.0</td>\n      <td>3083.0</td>\n      <td>LRPS</td>\n      <td>0</td>\n      <td>Others</td>\n      <td>Start at intersection of Z8905 /BC joint infro...</td>\n      <td>22.4264438</td>\n      <td>90.8494719</td>\n      <td>Z8943</td>\n      <td>5651.0</td>\n    </tr>\n  </tbody>\n</table>\n<p>10 rows × 34 columns</p>\n</div>"
     },
     "execution_count": 62,
     "metadata": {},
     "output_type": "execute_result"
    }
   ],
   "source": [
    "# Select columns relevant for economic calculation\n",
    "economic_df = latlonload.loc[:, 'Heavy Truck':'Cart']\n",
    "\n",
    "# Convert values to floats\n",
    "economic_df = economic_df.astype(float)\n",
    "\n",
    "# Calculate the economic value for each row\n",
    "latlonload['EVV'] = economic_df.apply(lambda row: sum(row[col] * economic_value_vehicles[col] for col in economic_df.columns if col in economic_value_vehicles), axis=1)\n",
    "\n",
    "latlonload.tail(10)"
   ],
   "metadata": {
    "collapsed": false,
    "ExecuteTime": {
     "end_time": "2024-04-02T09:48:29.856004400Z",
     "start_time": "2024-04-02T09:48:29.761412800Z"
    }
   },
   "id": "283f43141d75dd8c"
  },
  {
   "cell_type": "code",
   "execution_count": 65,
   "outputs": [
    {
     "data": {
      "text/plain": "       road                                               name LRP Start  \\\n651      N3  Banani Rail Crossing-Progoti sharani(Left) (Left)      LRPS   \n654      N3  Banani Rail Crossing-Progoti sharani(Left) (Ri...      LRPS   \n657      N3  Progoti sharani-Abdullahpur, Int. with N302 (L...   LRP001a   \n660      N3  Progoti sharani-Abdullahpur, Int. with N302 (L...   LRP001a   \n810      N4  Karotia(Int.with Z4012)-Tangail, Nagarjalphai ...    LRP056   \n...     ...                                                ...       ...   \n5280  Z6855            Bagshara-Chabbis Nagar (int.with Z6809)      LRPS   \n4773  Z5408                                        Kadda-Tamai      LRPS   \n3834  Z1612                                 Bogachhari-Langadu      LRPS   \n3459  Z1084                          Muhuriganj-Int.with Z1025      LRPS   \n4050  Z2805                            Dharmapasha-Madayanagar      LRPS   \n\n      Offset Start  Chainage Start  LRP End  Offset End  Chainage End    (Km)  \\\n651              0           0.000  LRP001a           0         1.810   1.810   \n654              0           0.000  LRP001a           0         1.810   1.810   \n657              0           1.810  LRP001a        7247         9.057   7.247   \n660              0           1.810  LRP001a        7247         9.057   7.247   \n810           1815          55.708   LRP056        3788        57.681   1.973   \n...            ...             ...      ...         ...           ...     ...   \n5280             0           0.000   LRP014         999        15.479  15.479   \n4773             0           0.000     LRPS        7890         7.890   7.890   \n3834             0           0.000   LRP008         418         8.428   8.428   \n3459             0           0.000     LRPS       11000        11.000  11.000   \n4050             0           0.000   LRP013        5964        18.964  18.964   \n\n     Heavy Truck  ... Total AADT   (AADT)   LRP No Road Chainage  \\\n651         45.0  ...    82414.0  82414.0     LRPS             0   \n654        127.0  ...    81610.0  81610.0     LRPS             0   \n657         38.0  ...    73476.0  73476.0  LRP001a          1.81   \n660        234.0  ...    69068.0  69068.0  LRP001a          1.81   \n810        118.0  ...    27674.0  27674.0   LRP056        54.309   \n...          ...  ...        ...      ...      ...           ...   \n5280         0.0  ...      783.0    783.0     LRPS             0   \n4773         0.0  ...      584.0    584.0     LRPS             0   \n3834         0.0  ...      298.0    298.0     LRPS             0   \n3459         0.0  ...      228.0    228.0     LRPS             0   \n4050         0.0  ...        0.0      0.0     LRPS             0   \n\n              LRP TYPE                                        Description  \\\n651             Others  Start of Road From the End of Banani Rail Cros...   \n654             Others  Start of Road From the End of Banani Rail Cros...   \n657   Side Road, Right                                    Progoti Sharani   \n660   Side Road, Right                                    Progoti Sharani   \n810            Km Post                                    Km post missing   \n...                ...                                                ...   \n5280            Others                          Start from bagshara more.   \n4773            Others  Start of road at Jamtail, Bottola 21 m East fr...   \n3834            Others               Road Start from R 162 at Bogachhari.   \n3459            Others                         Start of Road From Jingira   \n4050            Others          The road starts from R370 at Dharmapasha.   \n\n     Latitude Decimal Longitued Decimal road_number       EVV  \n651        23.8145833        90.4043056          N3  311371.0  \n654        23.8145833        90.4043056          N3  309359.0  \n657        23.8217771        90.4191104          N3  284732.0  \n660        23.8217771        90.4191104          N3  278333.0  \n810        24.2210549        89.9674993          N4  156204.0  \n...               ...               ...         ...       ...  \n5280       24.4647778        88.5961108       Z6855     594.5  \n4773       24.3649444        89.6626389       Z5408     522.0  \n3834       22.8130278        92.0384441       Z1612     495.5  \n3459       22.8594722        91.5298049       Z1084     271.0  \n4050       24.8967497        91.0116389       Z2805       0.0  \n\n[1736 rows x 34 columns]",
      "text/html": "<div>\n<style scoped>\n    .dataframe tbody tr th:only-of-type {\n        vertical-align: middle;\n    }\n\n    .dataframe tbody tr th {\n        vertical-align: top;\n    }\n\n    .dataframe thead th {\n        text-align: right;\n    }\n</style>\n<table border=\"1\" class=\"dataframe\">\n  <thead>\n    <tr style=\"text-align: right;\">\n      <th></th>\n      <th>road</th>\n      <th>name</th>\n      <th>LRP Start</th>\n      <th>Offset Start</th>\n      <th>Chainage Start</th>\n      <th>LRP End</th>\n      <th>Offset End</th>\n      <th>Chainage End</th>\n      <th>(Km)</th>\n      <th>Heavy Truck</th>\n      <th>...</th>\n      <th>Total AADT</th>\n      <th>(AADT)</th>\n      <th>LRP No</th>\n      <th>Road Chainage</th>\n      <th>LRP TYPE</th>\n      <th>Description</th>\n      <th>Latitude Decimal</th>\n      <th>Longitued Decimal</th>\n      <th>road_number</th>\n      <th>EVV</th>\n    </tr>\n  </thead>\n  <tbody>\n    <tr>\n      <th>651</th>\n      <td>N3</td>\n      <td>Banani Rail Crossing-Progoti sharani(Left) (Left)</td>\n      <td>LRPS</td>\n      <td>0</td>\n      <td>0.000</td>\n      <td>LRP001a</td>\n      <td>0</td>\n      <td>1.810</td>\n      <td>1.810</td>\n      <td>45.0</td>\n      <td>...</td>\n      <td>82414.0</td>\n      <td>82414.0</td>\n      <td>LRPS</td>\n      <td>0</td>\n      <td>Others</td>\n      <td>Start of Road From the End of Banani Rail Cros...</td>\n      <td>23.8145833</td>\n      <td>90.4043056</td>\n      <td>N3</td>\n      <td>311371.0</td>\n    </tr>\n    <tr>\n      <th>654</th>\n      <td>N3</td>\n      <td>Banani Rail Crossing-Progoti sharani(Left) (Ri...</td>\n      <td>LRPS</td>\n      <td>0</td>\n      <td>0.000</td>\n      <td>LRP001a</td>\n      <td>0</td>\n      <td>1.810</td>\n      <td>1.810</td>\n      <td>127.0</td>\n      <td>...</td>\n      <td>81610.0</td>\n      <td>81610.0</td>\n      <td>LRPS</td>\n      <td>0</td>\n      <td>Others</td>\n      <td>Start of Road From the End of Banani Rail Cros...</td>\n      <td>23.8145833</td>\n      <td>90.4043056</td>\n      <td>N3</td>\n      <td>309359.0</td>\n    </tr>\n    <tr>\n      <th>657</th>\n      <td>N3</td>\n      <td>Progoti sharani-Abdullahpur, Int. with N302 (L...</td>\n      <td>LRP001a</td>\n      <td>0</td>\n      <td>1.810</td>\n      <td>LRP001a</td>\n      <td>7247</td>\n      <td>9.057</td>\n      <td>7.247</td>\n      <td>38.0</td>\n      <td>...</td>\n      <td>73476.0</td>\n      <td>73476.0</td>\n      <td>LRP001a</td>\n      <td>1.81</td>\n      <td>Side Road, Right</td>\n      <td>Progoti Sharani</td>\n      <td>23.8217771</td>\n      <td>90.4191104</td>\n      <td>N3</td>\n      <td>284732.0</td>\n    </tr>\n    <tr>\n      <th>660</th>\n      <td>N3</td>\n      <td>Progoti sharani-Abdullahpur, Int. with N302 (L...</td>\n      <td>LRP001a</td>\n      <td>0</td>\n      <td>1.810</td>\n      <td>LRP001a</td>\n      <td>7247</td>\n      <td>9.057</td>\n      <td>7.247</td>\n      <td>234.0</td>\n      <td>...</td>\n      <td>69068.0</td>\n      <td>69068.0</td>\n      <td>LRP001a</td>\n      <td>1.81</td>\n      <td>Side Road, Right</td>\n      <td>Progoti Sharani</td>\n      <td>23.8217771</td>\n      <td>90.4191104</td>\n      <td>N3</td>\n      <td>278333.0</td>\n    </tr>\n    <tr>\n      <th>810</th>\n      <td>N4</td>\n      <td>Karotia(Int.with Z4012)-Tangail, Nagarjalphai ...</td>\n      <td>LRP056</td>\n      <td>1815</td>\n      <td>55.708</td>\n      <td>LRP056</td>\n      <td>3788</td>\n      <td>57.681</td>\n      <td>1.973</td>\n      <td>118.0</td>\n      <td>...</td>\n      <td>27674.0</td>\n      <td>27674.0</td>\n      <td>LRP056</td>\n      <td>54.309</td>\n      <td>Km Post</td>\n      <td>Km post missing</td>\n      <td>24.2210549</td>\n      <td>89.9674993</td>\n      <td>N4</td>\n      <td>156204.0</td>\n    </tr>\n    <tr>\n      <th>...</th>\n      <td>...</td>\n      <td>...</td>\n      <td>...</td>\n      <td>...</td>\n      <td>...</td>\n      <td>...</td>\n      <td>...</td>\n      <td>...</td>\n      <td>...</td>\n      <td>...</td>\n      <td>...</td>\n      <td>...</td>\n      <td>...</td>\n      <td>...</td>\n      <td>...</td>\n      <td>...</td>\n      <td>...</td>\n      <td>...</td>\n      <td>...</td>\n      <td>...</td>\n      <td>...</td>\n    </tr>\n    <tr>\n      <th>5280</th>\n      <td>Z6855</td>\n      <td>Bagshara-Chabbis Nagar (int.with Z6809)</td>\n      <td>LRPS</td>\n      <td>0</td>\n      <td>0.000</td>\n      <td>LRP014</td>\n      <td>999</td>\n      <td>15.479</td>\n      <td>15.479</td>\n      <td>0.0</td>\n      <td>...</td>\n      <td>783.0</td>\n      <td>783.0</td>\n      <td>LRPS</td>\n      <td>0</td>\n      <td>Others</td>\n      <td>Start from bagshara more.</td>\n      <td>24.4647778</td>\n      <td>88.5961108</td>\n      <td>Z6855</td>\n      <td>594.5</td>\n    </tr>\n    <tr>\n      <th>4773</th>\n      <td>Z5408</td>\n      <td>Kadda-Tamai</td>\n      <td>LRPS</td>\n      <td>0</td>\n      <td>0.000</td>\n      <td>LRPS</td>\n      <td>7890</td>\n      <td>7.890</td>\n      <td>7.890</td>\n      <td>0.0</td>\n      <td>...</td>\n      <td>584.0</td>\n      <td>584.0</td>\n      <td>LRPS</td>\n      <td>0</td>\n      <td>Others</td>\n      <td>Start of road at Jamtail, Bottola 21 m East fr...</td>\n      <td>24.3649444</td>\n      <td>89.6626389</td>\n      <td>Z5408</td>\n      <td>522.0</td>\n    </tr>\n    <tr>\n      <th>3834</th>\n      <td>Z1612</td>\n      <td>Bogachhari-Langadu</td>\n      <td>LRPS</td>\n      <td>0</td>\n      <td>0.000</td>\n      <td>LRP008</td>\n      <td>418</td>\n      <td>8.428</td>\n      <td>8.428</td>\n      <td>0.0</td>\n      <td>...</td>\n      <td>298.0</td>\n      <td>298.0</td>\n      <td>LRPS</td>\n      <td>0</td>\n      <td>Others</td>\n      <td>Road Start from R 162 at Bogachhari.</td>\n      <td>22.8130278</td>\n      <td>92.0384441</td>\n      <td>Z1612</td>\n      <td>495.5</td>\n    </tr>\n    <tr>\n      <th>3459</th>\n      <td>Z1084</td>\n      <td>Muhuriganj-Int.with Z1025</td>\n      <td>LRPS</td>\n      <td>0</td>\n      <td>0.000</td>\n      <td>LRPS</td>\n      <td>11000</td>\n      <td>11.000</td>\n      <td>11.000</td>\n      <td>0.0</td>\n      <td>...</td>\n      <td>228.0</td>\n      <td>228.0</td>\n      <td>LRPS</td>\n      <td>0</td>\n      <td>Others</td>\n      <td>Start of Road From Jingira</td>\n      <td>22.8594722</td>\n      <td>91.5298049</td>\n      <td>Z1084</td>\n      <td>271.0</td>\n    </tr>\n    <tr>\n      <th>4050</th>\n      <td>Z2805</td>\n      <td>Dharmapasha-Madayanagar</td>\n      <td>LRPS</td>\n      <td>0</td>\n      <td>0.000</td>\n      <td>LRP013</td>\n      <td>5964</td>\n      <td>18.964</td>\n      <td>18.964</td>\n      <td>0.0</td>\n      <td>...</td>\n      <td>0.0</td>\n      <td>0.0</td>\n      <td>LRPS</td>\n      <td>0</td>\n      <td>Others</td>\n      <td>The road starts from R370 at Dharmapasha.</td>\n      <td>24.8967497</td>\n      <td>91.0116389</td>\n      <td>Z2805</td>\n      <td>0.0</td>\n    </tr>\n  </tbody>\n</table>\n<p>1736 rows × 34 columns</p>\n</div>"
     },
     "execution_count": 65,
     "metadata": {},
     "output_type": "execute_result"
    }
   ],
   "source": [
    "latlonload.sort_values('EVV', ascending=False)"
   ],
   "metadata": {
    "collapsed": false,
    "ExecuteTime": {
     "end_time": "2024-04-02T09:50:01.402619500Z",
     "start_time": "2024-04-02T09:50:01.355755400Z"
    }
   },
   "id": "b1ef6753e9961a55"
  }
 ],
 "metadata": {
  "kernelspec": {
   "display_name": "Python 3",
   "language": "python",
   "name": "python3"
  },
  "language_info": {
   "codemirror_mode": {
    "name": "ipython",
    "version": 2
   },
   "file_extension": ".py",
   "mimetype": "text/x-python",
   "name": "python",
   "nbconvert_exporter": "python",
   "pygments_lexer": "ipython2",
   "version": "2.7.6"
  }
 },
 "nbformat": 4,
 "nbformat_minor": 5
}
