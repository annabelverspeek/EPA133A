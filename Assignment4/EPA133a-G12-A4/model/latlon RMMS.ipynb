{
 "cells": [
  {
   "cell_type": "code",
   "execution_count": 28,
   "id": "initial_id",
   "metadata": {
    "collapsed": true,
    "ExecuteTime": {
     "end_time": "2024-04-02T08:58:53.706955700Z",
     "start_time": "2024-04-02T08:58:53.675673500Z"
    }
   },
   "outputs": [
    {
     "ename": "FileNotFoundError",
     "evalue": "[WinError 3] Het systeem kan het opgegeven pad niet vinden: 'RMMS/'",
     "output_type": "error",
     "traceback": [
      "\u001B[1;31m---------------------------------------------------------------------------\u001B[0m",
      "\u001B[1;31mFileNotFoundError\u001B[0m                         Traceback (most recent call last)",
      "Cell \u001B[1;32mIn[28], line 8\u001B[0m\n\u001B[0;32m      5\u001B[0m path \u001B[38;5;241m=\u001B[39m \u001B[38;5;124m'\u001B[39m\u001B[38;5;124mRMMS/\u001B[39m\u001B[38;5;124m'\u001B[39m\n\u001B[0;32m      7\u001B[0m \u001B[38;5;66;03m# Get a list of all files in the folder\u001B[39;00m\n\u001B[1;32m----> 8\u001B[0m files \u001B[38;5;241m=\u001B[39m [f \u001B[38;5;28;01mfor\u001B[39;00m f \u001B[38;5;129;01min\u001B[39;00m \u001B[43mos\u001B[49m\u001B[38;5;241;43m.\u001B[39;49m\u001B[43mlistdir\u001B[49m\u001B[43m(\u001B[49m\u001B[43mpath\u001B[49m\u001B[43m)\u001B[49m \u001B[38;5;28;01mif\u001B[39;00m f\u001B[38;5;241m.\u001B[39mendswith(\u001B[38;5;124m'\u001B[39m\u001B[38;5;124m.lrps.htm\u001B[39m\u001B[38;5;124m'\u001B[39m)]\n\u001B[0;32m     10\u001B[0m \u001B[38;5;66;03m# Initialize an empty list to store DataFrames\u001B[39;00m\n\u001B[0;32m     11\u001B[0m dfs \u001B[38;5;241m=\u001B[39m []\n",
      "\u001B[1;31mFileNotFoundError\u001B[0m: [WinError 3] Het systeem kan het opgegeven pad niet vinden: 'RMMS/'"
     ]
    }
   ],
   "source": [
    "import os\n",
    "import pandas as pd\n",
    "\n",
    "# Define the path to the folder\n",
    "path = 'RMMS/'\n",
    "\n",
    "# Get a list of all files in the folder\n",
    "files = [f for f in os.listdir(path) if f.endswith('.lrps.htm')]\n",
    "\n",
    "# Initialize an empty list to store DataFrames\n",
    "dfs = []\n",
    "\n",
    "# Loop through each file\n",
    "for file in files:\n",
    "    # Read HTML tables into a list of DataFrames\n",
    "    tables = pd.read_html(os.path.join(path, file))\n",
    "    \n",
    "    # Combine all tables into a single DataFrame\n",
    "    df = pd.concat(tables)\n",
    "    \n",
    "    # Remove the first row and rows above row 9\n",
    "    df = df.iloc[9:].reset_index(drop=True)\n",
    "    \n",
    "    # Set the correct header using the values from row 9\n",
    "    df.columns = df.iloc[0]\n",
    "    \n",
    "    # Drop the now redundant row 9\n",
    "    df = df.iloc[1:].reset_index(drop=True)\n",
    "    \n",
    "    # Drop the first and last columns\n",
    "    df = df.iloc[:, 1:-1]\n",
    "    \n",
    "    # Add a new column for road number\n",
    "    road_number = file.split('.')[0]  # Extract road number from file name\n",
    "    df['road_number'] = road_number\n",
    "    \n",
    "    # Append the DataFrame to the list\n",
    "    dfs.append(df)\n",
    "\n",
    "# Concatenate all DataFrames into one\n",
    "combined_df = pd.concat(dfs, ignore_index=True)\n",
    "\n",
    "# Save the combined DataFrame to a CSV file\n",
    "combined_df.to_csv('combined_lrps.csv', index=False)\n"
   ]
  },
  {
   "cell_type": "code",
   "execution_count": 27,
   "outputs": [
    {
     "ename": "NameError",
     "evalue": "name 'combined_df' is not defined",
     "output_type": "error",
     "traceback": [
      "\u001B[1;31m---------------------------------------------------------------------------\u001B[0m",
      "\u001B[1;31mNameError\u001B[0m                                 Traceback (most recent call last)",
      "Cell \u001B[1;32mIn[27], line 1\u001B[0m\n\u001B[1;32m----> 1\u001B[0m \u001B[43mcombined_df\u001B[49m\u001B[38;5;241m.\u001B[39mshape\n\u001B[0;32m      2\u001B[0m combined_df\u001B[38;5;241m.\u001B[39mto_csv(\u001B[38;5;124m'\u001B[39m\u001B[38;5;124mRMMS/combined_lrps.csv\u001B[39m\u001B[38;5;124m'\u001B[39m, index\u001B[38;5;241m=\u001B[39m\u001B[38;5;28;01mFalse\u001B[39;00m)\n",
      "\u001B[1;31mNameError\u001B[0m: name 'combined_df' is not defined"
     ]
    }
   ],
   "source": [
    "combined_df.shape\n",
    "combined_df.to_csv('RMMS/combined_lrps.csv', index=False)"
   ],
   "metadata": {
    "collapsed": false,
    "ExecuteTime": {
     "end_time": "2024-04-02T08:58:51.995809900Z",
     "start_time": "2024-04-02T08:58:51.932898100Z"
    }
   },
   "id": "fe23cedf5d577c58"
  },
  {
   "cell_type": "code",
   "execution_count": 9,
   "outputs": [
    {
     "data": {
      "text/plain": "  road                                            name   LRP  Offset  \\\n0   N1        Jatrabari - Int.with Z1101 (Left) (Left)  LRPS       0   \n1   N1       Jatrabari - Int.with Z1101 (Left) (Right)  LRPS       0   \n2   N1   Int.with Z1101 - Signboard (Left) R111 (Left)  LRPS     822   \n3   N1  Int.with Z1101 - Signboard (Left) R111 (Right)  LRPS     822   \n4   N1          Signboard - Shimrail (Left)R110 (Left)  LRPS    4175   \n\n   Chainage LRP.1  Offset.1  Chainage.1   (Km) Heavy Truck  ...     Car  \\\n0     0.000  LRPS       822       0.822  0.822       402.0  ...  1851.0   \n1     0.000  LRPS       822       0.822  0.822       660.0  ...  2608.0   \n2     0.822  LRPS      4175       4.175  3.353       660.0  ...  2608.0   \n3     0.822  LRPS      4175       4.175  3.353       402.0  ...  1851.0   \n4     4.175  LRPS      7181       7.181  3.006        91.0  ...  1690.0   \n\n  Auto Rickshaw Motor Cycle Bi-Cycle Cycle Rickshaw Cart Motorized  \\\n0        2980.0       398.0    232.0          889.0  0.0   18236.0   \n1        2508.0       436.0    213.0         1088.0  0.0   20236.0   \n2        2508.0       436.0    213.0         1088.0  0.0   20236.0   \n3        2980.0       398.0    232.0          889.0  0.0   18236.0   \n4        2266.0      1087.0     75.0         1198.0  0.0   16288.0   \n\n  Non Motorized Total AADT   (AADT)  \n0        1121.0    19357.0  19357.0  \n1        1301.0    21537.0  21537.0  \n2        1301.0    21537.0  21537.0  \n3        1121.0    19357.0  19357.0  \n4        1273.0    17561.0  17561.0  \n\n[5 rows x 26 columns]",
      "text/html": "<div>\n<style scoped>\n    .dataframe tbody tr th:only-of-type {\n        vertical-align: middle;\n    }\n\n    .dataframe tbody tr th {\n        vertical-align: top;\n    }\n\n    .dataframe thead th {\n        text-align: right;\n    }\n</style>\n<table border=\"1\" class=\"dataframe\">\n  <thead>\n    <tr style=\"text-align: right;\">\n      <th></th>\n      <th>road</th>\n      <th>name</th>\n      <th>LRP</th>\n      <th>Offset</th>\n      <th>Chainage</th>\n      <th>LRP.1</th>\n      <th>Offset.1</th>\n      <th>Chainage.1</th>\n      <th>(Km)</th>\n      <th>Heavy Truck</th>\n      <th>...</th>\n      <th>Car</th>\n      <th>Auto Rickshaw</th>\n      <th>Motor Cycle</th>\n      <th>Bi-Cycle</th>\n      <th>Cycle Rickshaw</th>\n      <th>Cart</th>\n      <th>Motorized</th>\n      <th>Non Motorized</th>\n      <th>Total AADT</th>\n      <th>(AADT)</th>\n    </tr>\n  </thead>\n  <tbody>\n    <tr>\n      <th>0</th>\n      <td>N1</td>\n      <td>Jatrabari - Int.with Z1101 (Left) (Left)</td>\n      <td>LRPS</td>\n      <td>0</td>\n      <td>0.000</td>\n      <td>LRPS</td>\n      <td>822</td>\n      <td>0.822</td>\n      <td>0.822</td>\n      <td>402.0</td>\n      <td>...</td>\n      <td>1851.0</td>\n      <td>2980.0</td>\n      <td>398.0</td>\n      <td>232.0</td>\n      <td>889.0</td>\n      <td>0.0</td>\n      <td>18236.0</td>\n      <td>1121.0</td>\n      <td>19357.0</td>\n      <td>19357.0</td>\n    </tr>\n    <tr>\n      <th>1</th>\n      <td>N1</td>\n      <td>Jatrabari - Int.with Z1101 (Left) (Right)</td>\n      <td>LRPS</td>\n      <td>0</td>\n      <td>0.000</td>\n      <td>LRPS</td>\n      <td>822</td>\n      <td>0.822</td>\n      <td>0.822</td>\n      <td>660.0</td>\n      <td>...</td>\n      <td>2608.0</td>\n      <td>2508.0</td>\n      <td>436.0</td>\n      <td>213.0</td>\n      <td>1088.0</td>\n      <td>0.0</td>\n      <td>20236.0</td>\n      <td>1301.0</td>\n      <td>21537.0</td>\n      <td>21537.0</td>\n    </tr>\n    <tr>\n      <th>2</th>\n      <td>N1</td>\n      <td>Int.with Z1101 - Signboard (Left) R111 (Left)</td>\n      <td>LRPS</td>\n      <td>822</td>\n      <td>0.822</td>\n      <td>LRPS</td>\n      <td>4175</td>\n      <td>4.175</td>\n      <td>3.353</td>\n      <td>660.0</td>\n      <td>...</td>\n      <td>2608.0</td>\n      <td>2508.0</td>\n      <td>436.0</td>\n      <td>213.0</td>\n      <td>1088.0</td>\n      <td>0.0</td>\n      <td>20236.0</td>\n      <td>1301.0</td>\n      <td>21537.0</td>\n      <td>21537.0</td>\n    </tr>\n    <tr>\n      <th>3</th>\n      <td>N1</td>\n      <td>Int.with Z1101 - Signboard (Left) R111 (Right)</td>\n      <td>LRPS</td>\n      <td>822</td>\n      <td>0.822</td>\n      <td>LRPS</td>\n      <td>4175</td>\n      <td>4.175</td>\n      <td>3.353</td>\n      <td>402.0</td>\n      <td>...</td>\n      <td>1851.0</td>\n      <td>2980.0</td>\n      <td>398.0</td>\n      <td>232.0</td>\n      <td>889.0</td>\n      <td>0.0</td>\n      <td>18236.0</td>\n      <td>1121.0</td>\n      <td>19357.0</td>\n      <td>19357.0</td>\n    </tr>\n    <tr>\n      <th>4</th>\n      <td>N1</td>\n      <td>Signboard - Shimrail (Left)R110 (Left)</td>\n      <td>LRPS</td>\n      <td>4175</td>\n      <td>4.175</td>\n      <td>LRPS</td>\n      <td>7181</td>\n      <td>7.181</td>\n      <td>3.006</td>\n      <td>91.0</td>\n      <td>...</td>\n      <td>1690.0</td>\n      <td>2266.0</td>\n      <td>1087.0</td>\n      <td>75.0</td>\n      <td>1198.0</td>\n      <td>0.0</td>\n      <td>16288.0</td>\n      <td>1273.0</td>\n      <td>17561.0</td>\n      <td>17561.0</td>\n    </tr>\n  </tbody>\n</table>\n<p>5 rows × 26 columns</p>\n</div>"
     },
     "execution_count": 9,
     "metadata": {},
     "output_type": "execute_result"
    }
   ],
   "source": [
    "import pandas as pd\n",
    "\n",
    "traffic_df = pd.read_csv('traffic.csv')\n",
    "traffic_df.head()"
   ],
   "metadata": {
    "collapsed": false,
    "ExecuteTime": {
     "end_time": "2024-04-01T17:49:25.567912800Z",
     "start_time": "2024-04-01T17:49:25.503612900Z"
    }
   },
   "id": "7bd0bcce64ab4ec5"
  },
  {
   "cell_type": "code",
   "execution_count": 26,
   "outputs": [
    {
     "name": "stdout",
     "output_type": "stream",
     "text": [
      "(2066, 26)\n"
     ]
    },
    {
     "ename": "NameError",
     "evalue": "name 'combined_df' is not defined",
     "output_type": "error",
     "traceback": [
      "\u001B[1;31m---------------------------------------------------------------------------\u001B[0m",
      "\u001B[1;31mNameError\u001B[0m                                 Traceback (most recent call last)",
      "Cell \u001B[1;32mIn[26], line 3\u001B[0m\n\u001B[0;32m      1\u001B[0m traffic_df\u001B[38;5;241m=\u001B[39m traffic_df\u001B[38;5;241m.\u001B[39mrename(columns \u001B[38;5;241m=\u001B[39m { \u001B[38;5;124m'\u001B[39m\u001B[38;5;124mLRP\u001B[39m\u001B[38;5;124m'\u001B[39m:\u001B[38;5;124m'\u001B[39m\u001B[38;5;124mLRP Start\u001B[39m\u001B[38;5;124m'\u001B[39m, \u001B[38;5;124m'\u001B[39m\u001B[38;5;124mOffset\u001B[39m\u001B[38;5;124m'\u001B[39m: \u001B[38;5;124m'\u001B[39m\u001B[38;5;124mOffset Start\u001B[39m\u001B[38;5;124m'\u001B[39m, \u001B[38;5;124m'\u001B[39m\u001B[38;5;124mChainage\u001B[39m\u001B[38;5;124m'\u001B[39m:\u001B[38;5;124m'\u001B[39m\u001B[38;5;124mChainage Start\u001B[39m\u001B[38;5;124m'\u001B[39m, \u001B[38;5;124m'\u001B[39m\u001B[38;5;124mLRP.1\u001B[39m\u001B[38;5;124m'\u001B[39m:\u001B[38;5;124m'\u001B[39m\u001B[38;5;124mLRP End\u001B[39m\u001B[38;5;124m'\u001B[39m, \u001B[38;5;124m'\u001B[39m\u001B[38;5;124mOffset.1\u001B[39m\u001B[38;5;124m'\u001B[39m: \u001B[38;5;124m'\u001B[39m\u001B[38;5;124mOffset End\u001B[39m\u001B[38;5;124m'\u001B[39m, \u001B[38;5;124m'\u001B[39m\u001B[38;5;124mChainage.1\u001B[39m\u001B[38;5;124m'\u001B[39m:\u001B[38;5;124m'\u001B[39m\u001B[38;5;124mChainage End\u001B[39m\u001B[38;5;124m'\u001B[39m})\n\u001B[0;32m      2\u001B[0m \u001B[38;5;28mprint\u001B[39m(traffic_df\u001B[38;5;241m.\u001B[39mshape)\n\u001B[1;32m----> 3\u001B[0m \u001B[38;5;28mprint\u001B[39m(\u001B[43mcombined_df\u001B[49m\u001B[38;5;241m.\u001B[39mshape)\n",
      "\u001B[1;31mNameError\u001B[0m: name 'combined_df' is not defined"
     ]
    }
   ],
   "source": [
    "traffic_df= traffic_df.rename(columns = { 'LRP':'LRP Start', 'Offset': 'Offset Start', 'Chainage':'Chainage Start', 'LRP.1':'LRP End', 'Offset.1': 'Offset End', 'Chainage.1':'Chainage End'})\n",
    "print(traffic_df.shape)\n",
    "print(combined_df.shape)"
   ],
   "metadata": {
    "collapsed": false,
    "ExecuteTime": {
     "end_time": "2024-04-02T08:58:36.425301700Z",
     "start_time": "2024-04-02T08:58:36.346709600Z"
    }
   },
   "id": "5eb02de68fdad660"
  },
  {
   "cell_type": "code",
   "execution_count": 21,
   "outputs": [],
   "source": [
    "# Combining the different dataframes into one so we have the lat/lon values combined with the AADT values so we can calculate the different economic values for the road parts.  \n",
    "combined_lrps = pd.read_csv('combined_lrps.csv')\n",
    "\n",
    "latlonload = pd.merge(traffic_df, combined_lrps, left_on=['LRP Start','road'], right_on=['LRP No', 'road_number'] )"
   ],
   "metadata": {
    "collapsed": false,
    "ExecuteTime": {
     "end_time": "2024-04-02T07:23:28.146368800Z",
     "start_time": "2024-04-02T07:23:27.785339Z"
    }
   },
   "id": "7114780687549dcc"
  },
  {
   "cell_type": "code",
   "execution_count": 31,
   "outputs": [],
   "source": [
    "#When merging we got 3 rows of each entry, we have dropped the duplicates below to ensure we do not get double entries.\n",
    "latlonload = latlonload.drop_duplicates()\n",
    "latlonload.to_csv('latlonloads.csv')"
   ],
   "metadata": {
    "collapsed": false,
    "ExecuteTime": {
     "end_time": "2024-04-02T09:03:11.180025900Z",
     "start_time": "2024-04-02T09:03:11.117082800Z"
    }
   },
   "id": "ad0fdec97727faa4"
  },
  {
   "cell_type": "code",
   "execution_count": 34,
   "outputs": [
    {
     "ename": "TypeError",
     "evalue": "unsupported operand type(s) for +: 'int' and 'str'",
     "output_type": "error",
     "traceback": [
      "\u001B[1;31m---------------------------------------------------------------------------\u001B[0m",
      "\u001B[1;31mTypeError\u001B[0m                                 Traceback (most recent call last)",
      "Cell \u001B[1;32mIn[34], line 6\u001B[0m\n\u001B[0;32m      3\u001B[0m economic_value_vehicles \u001B[38;5;241m=\u001B[39m {\u001B[38;5;124m'\u001B[39m\u001B[38;5;124mHeavy Truck\u001B[39m\u001B[38;5;124m'\u001B[39m:\u001B[38;5;241m10\u001B[39m,\u001B[38;5;124m'\u001B[39m\u001B[38;5;124mMedium Truck\u001B[39m\u001B[38;5;124m'\u001B[39m: \u001B[38;5;241m8\u001B[39m,\u001B[38;5;124m'\u001B[39m\u001B[38;5;124mSmall Truck\u001B[39m\u001B[38;5;124m'\u001B[39m:\u001B[38;5;241m7\u001B[39m,\u001B[38;5;124m'\u001B[39m\u001B[38;5;124mLarge Bus\u001B[39m\u001B[38;5;124m'\u001B[39m:\u001B[38;5;241m7\u001B[39m,\u001B[38;5;124m'\u001B[39m\u001B[38;5;124mMedium Bus\u001B[39m\u001B[38;5;124m'\u001B[39m:\u001B[38;5;241m6\u001B[39m,\u001B[38;5;124m'\u001B[39m\u001B[38;5;124mMicro Bus\u001B[39m\u001B[38;5;124m'\u001B[39m:\u001B[38;5;241m5\u001B[39m,\u001B[38;5;124m'\u001B[39m\u001B[38;5;124mUtility\u001B[39m\u001B[38;5;124m'\u001B[39m:\u001B[38;5;241m3\u001B[39m,\u001B[38;5;124m'\u001B[39m\u001B[38;5;124mCar\u001B[39m\u001B[38;5;124m'\u001B[39m:\u001B[38;5;241m3\u001B[39m,\u001B[38;5;124m'\u001B[39m\u001B[38;5;124mAuto Rickshaw\u001B[39m\u001B[38;5;124m'\u001B[39m:\u001B[38;5;241m2\u001B[39m,\u001B[38;5;124m'\u001B[39m\u001B[38;5;124mMotor Cycle\u001B[39m\u001B[38;5;124m'\u001B[39m: \u001B[38;5;241m1\u001B[39m,\u001B[38;5;124m'\u001B[39m\u001B[38;5;124mBi-Cycle\u001B[39m\u001B[38;5;124m'\u001B[39m:\u001B[38;5;241m0.5\u001B[39m,\u001B[38;5;124m'\u001B[39m\u001B[38;5;124mCycle Rickshaw\u001B[39m\u001B[38;5;124m'\u001B[39m:\u001B[38;5;241m1\u001B[39m,\u001B[38;5;124m'\u001B[39m\u001B[38;5;124mCart\u001B[39m\u001B[38;5;124m'\u001B[39m:\u001B[38;5;241m1\u001B[39m}\n\u001B[0;32m      5\u001B[0m \u001B[38;5;66;03m# Calculate the sum of values for each row and multiply by the corresponding economic value\u001B[39;00m\n\u001B[1;32m----> 6\u001B[0m latlonload[\u001B[38;5;124m'\u001B[39m\u001B[38;5;124mEVV\u001B[39m\u001B[38;5;124m'\u001B[39m] \u001B[38;5;241m=\u001B[39m \u001B[43mlatlonload\u001B[49m\u001B[38;5;241;43m.\u001B[39;49m\u001B[43mapply\u001B[49m\u001B[43m(\u001B[49m\u001B[38;5;28;43;01mlambda\u001B[39;49;00m\u001B[43m \u001B[49m\u001B[43mrow\u001B[49m\u001B[43m:\u001B[49m\u001B[43m \u001B[49m\u001B[38;5;28;43msum\u001B[39;49m\u001B[43m(\u001B[49m\u001B[43mrow\u001B[49m\u001B[43m[\u001B[49m\u001B[43mcol\u001B[49m\u001B[43m]\u001B[49m\u001B[43m \u001B[49m\u001B[38;5;241;43m*\u001B[39;49m\u001B[43m \u001B[49m\u001B[43meconomic_value_vehicles\u001B[49m\u001B[43m[\u001B[49m\u001B[43mcol\u001B[49m\u001B[43m]\u001B[49m\u001B[43m \u001B[49m\u001B[38;5;28;43;01mfor\u001B[39;49;00m\u001B[43m \u001B[49m\u001B[43mcol\u001B[49m\u001B[43m \u001B[49m\u001B[38;5;129;43;01min\u001B[39;49;00m\u001B[43m \u001B[49m\u001B[43mlatlonload\u001B[49m\u001B[38;5;241;43m.\u001B[39;49m\u001B[43mcolumns\u001B[49m\u001B[43m \u001B[49m\u001B[38;5;28;43;01mif\u001B[39;49;00m\u001B[43m \u001B[49m\u001B[43mcol\u001B[49m\u001B[43m \u001B[49m\u001B[38;5;129;43;01min\u001B[39;49;00m\u001B[43m \u001B[49m\u001B[43meconomic_value_vehicles\u001B[49m\u001B[43m)\u001B[49m\u001B[43m,\u001B[49m\u001B[43m \u001B[49m\u001B[43maxis\u001B[49m\u001B[38;5;241;43m=\u001B[39;49m\u001B[38;5;241;43m1\u001B[39;49m\u001B[43m)\u001B[49m\n",
      "File \u001B[1;32m~\\EPA133A\\venv\\lib\\site-packages\\pandas\\core\\frame.py:10034\u001B[0m, in \u001B[0;36mDataFrame.apply\u001B[1;34m(self, func, axis, raw, result_type, args, by_row, **kwargs)\u001B[0m\n\u001B[0;32m  10022\u001B[0m \u001B[38;5;28;01mfrom\u001B[39;00m \u001B[38;5;21;01mpandas\u001B[39;00m\u001B[38;5;21;01m.\u001B[39;00m\u001B[38;5;21;01mcore\u001B[39;00m\u001B[38;5;21;01m.\u001B[39;00m\u001B[38;5;21;01mapply\u001B[39;00m \u001B[38;5;28;01mimport\u001B[39;00m frame_apply\n\u001B[0;32m  10024\u001B[0m op \u001B[38;5;241m=\u001B[39m frame_apply(\n\u001B[0;32m  10025\u001B[0m     \u001B[38;5;28mself\u001B[39m,\n\u001B[0;32m  10026\u001B[0m     func\u001B[38;5;241m=\u001B[39mfunc,\n\u001B[1;32m   (...)\u001B[0m\n\u001B[0;32m  10032\u001B[0m     kwargs\u001B[38;5;241m=\u001B[39mkwargs,\n\u001B[0;32m  10033\u001B[0m )\n\u001B[1;32m> 10034\u001B[0m \u001B[38;5;28;01mreturn\u001B[39;00m \u001B[43mop\u001B[49m\u001B[38;5;241;43m.\u001B[39;49m\u001B[43mapply\u001B[49m\u001B[43m(\u001B[49m\u001B[43m)\u001B[49m\u001B[38;5;241m.\u001B[39m__finalize__(\u001B[38;5;28mself\u001B[39m, method\u001B[38;5;241m=\u001B[39m\u001B[38;5;124m\"\u001B[39m\u001B[38;5;124mapply\u001B[39m\u001B[38;5;124m\"\u001B[39m)\n",
      "File \u001B[1;32m~\\EPA133A\\venv\\lib\\site-packages\\pandas\\core\\apply.py:837\u001B[0m, in \u001B[0;36mFrameApply.apply\u001B[1;34m(self)\u001B[0m\n\u001B[0;32m    834\u001B[0m \u001B[38;5;28;01melif\u001B[39;00m \u001B[38;5;28mself\u001B[39m\u001B[38;5;241m.\u001B[39mraw:\n\u001B[0;32m    835\u001B[0m     \u001B[38;5;28;01mreturn\u001B[39;00m \u001B[38;5;28mself\u001B[39m\u001B[38;5;241m.\u001B[39mapply_raw()\n\u001B[1;32m--> 837\u001B[0m \u001B[38;5;28;01mreturn\u001B[39;00m \u001B[38;5;28;43mself\u001B[39;49m\u001B[38;5;241;43m.\u001B[39;49m\u001B[43mapply_standard\u001B[49m\u001B[43m(\u001B[49m\u001B[43m)\u001B[49m\n",
      "File \u001B[1;32m~\\EPA133A\\venv\\lib\\site-packages\\pandas\\core\\apply.py:963\u001B[0m, in \u001B[0;36mFrameApply.apply_standard\u001B[1;34m(self)\u001B[0m\n\u001B[0;32m    962\u001B[0m \u001B[38;5;28;01mdef\u001B[39;00m \u001B[38;5;21mapply_standard\u001B[39m(\u001B[38;5;28mself\u001B[39m):\n\u001B[1;32m--> 963\u001B[0m     results, res_index \u001B[38;5;241m=\u001B[39m \u001B[38;5;28;43mself\u001B[39;49m\u001B[38;5;241;43m.\u001B[39;49m\u001B[43mapply_series_generator\u001B[49m\u001B[43m(\u001B[49m\u001B[43m)\u001B[49m\n\u001B[0;32m    965\u001B[0m     \u001B[38;5;66;03m# wrap results\u001B[39;00m\n\u001B[0;32m    966\u001B[0m     \u001B[38;5;28;01mreturn\u001B[39;00m \u001B[38;5;28mself\u001B[39m\u001B[38;5;241m.\u001B[39mwrap_results(results, res_index)\n",
      "File \u001B[1;32m~\\EPA133A\\venv\\lib\\site-packages\\pandas\\core\\apply.py:979\u001B[0m, in \u001B[0;36mFrameApply.apply_series_generator\u001B[1;34m(self)\u001B[0m\n\u001B[0;32m    976\u001B[0m \u001B[38;5;28;01mwith\u001B[39;00m option_context(\u001B[38;5;124m\"\u001B[39m\u001B[38;5;124mmode.chained_assignment\u001B[39m\u001B[38;5;124m\"\u001B[39m, \u001B[38;5;28;01mNone\u001B[39;00m):\n\u001B[0;32m    977\u001B[0m     \u001B[38;5;28;01mfor\u001B[39;00m i, v \u001B[38;5;129;01min\u001B[39;00m \u001B[38;5;28menumerate\u001B[39m(series_gen):\n\u001B[0;32m    978\u001B[0m         \u001B[38;5;66;03m# ignore SettingWithCopy here in case the user mutates\u001B[39;00m\n\u001B[1;32m--> 979\u001B[0m         results[i] \u001B[38;5;241m=\u001B[39m \u001B[38;5;28mself\u001B[39m\u001B[38;5;241m.\u001B[39mfunc(v, \u001B[38;5;241m*\u001B[39m\u001B[38;5;28mself\u001B[39m\u001B[38;5;241m.\u001B[39margs, \u001B[38;5;241m*\u001B[39m\u001B[38;5;241m*\u001B[39m\u001B[38;5;28mself\u001B[39m\u001B[38;5;241m.\u001B[39mkwargs)\n\u001B[0;32m    980\u001B[0m         \u001B[38;5;28;01mif\u001B[39;00m \u001B[38;5;28misinstance\u001B[39m(results[i], ABCSeries):\n\u001B[0;32m    981\u001B[0m             \u001B[38;5;66;03m# If we have a view on v, we need to make a copy because\u001B[39;00m\n\u001B[0;32m    982\u001B[0m             \u001B[38;5;66;03m#  series_generator will swap out the underlying data\u001B[39;00m\n\u001B[0;32m    983\u001B[0m             results[i] \u001B[38;5;241m=\u001B[39m results[i]\u001B[38;5;241m.\u001B[39mcopy(deep\u001B[38;5;241m=\u001B[39m\u001B[38;5;28;01mFalse\u001B[39;00m)\n",
      "Cell \u001B[1;32mIn[34], line 6\u001B[0m, in \u001B[0;36m<lambda>\u001B[1;34m(row)\u001B[0m\n\u001B[0;32m      3\u001B[0m economic_value_vehicles \u001B[38;5;241m=\u001B[39m {\u001B[38;5;124m'\u001B[39m\u001B[38;5;124mHeavy Truck\u001B[39m\u001B[38;5;124m'\u001B[39m:\u001B[38;5;241m10\u001B[39m,\u001B[38;5;124m'\u001B[39m\u001B[38;5;124mMedium Truck\u001B[39m\u001B[38;5;124m'\u001B[39m: \u001B[38;5;241m8\u001B[39m,\u001B[38;5;124m'\u001B[39m\u001B[38;5;124mSmall Truck\u001B[39m\u001B[38;5;124m'\u001B[39m:\u001B[38;5;241m7\u001B[39m,\u001B[38;5;124m'\u001B[39m\u001B[38;5;124mLarge Bus\u001B[39m\u001B[38;5;124m'\u001B[39m:\u001B[38;5;241m7\u001B[39m,\u001B[38;5;124m'\u001B[39m\u001B[38;5;124mMedium Bus\u001B[39m\u001B[38;5;124m'\u001B[39m:\u001B[38;5;241m6\u001B[39m,\u001B[38;5;124m'\u001B[39m\u001B[38;5;124mMicro Bus\u001B[39m\u001B[38;5;124m'\u001B[39m:\u001B[38;5;241m5\u001B[39m,\u001B[38;5;124m'\u001B[39m\u001B[38;5;124mUtility\u001B[39m\u001B[38;5;124m'\u001B[39m:\u001B[38;5;241m3\u001B[39m,\u001B[38;5;124m'\u001B[39m\u001B[38;5;124mCar\u001B[39m\u001B[38;5;124m'\u001B[39m:\u001B[38;5;241m3\u001B[39m,\u001B[38;5;124m'\u001B[39m\u001B[38;5;124mAuto Rickshaw\u001B[39m\u001B[38;5;124m'\u001B[39m:\u001B[38;5;241m2\u001B[39m,\u001B[38;5;124m'\u001B[39m\u001B[38;5;124mMotor Cycle\u001B[39m\u001B[38;5;124m'\u001B[39m: \u001B[38;5;241m1\u001B[39m,\u001B[38;5;124m'\u001B[39m\u001B[38;5;124mBi-Cycle\u001B[39m\u001B[38;5;124m'\u001B[39m:\u001B[38;5;241m0.5\u001B[39m,\u001B[38;5;124m'\u001B[39m\u001B[38;5;124mCycle Rickshaw\u001B[39m\u001B[38;5;124m'\u001B[39m:\u001B[38;5;241m1\u001B[39m,\u001B[38;5;124m'\u001B[39m\u001B[38;5;124mCart\u001B[39m\u001B[38;5;124m'\u001B[39m:\u001B[38;5;241m1\u001B[39m}\n\u001B[0;32m      5\u001B[0m \u001B[38;5;66;03m# Calculate the sum of values for each row and multiply by the corresponding economic value\u001B[39;00m\n\u001B[1;32m----> 6\u001B[0m latlonload[\u001B[38;5;124m'\u001B[39m\u001B[38;5;124mEVV\u001B[39m\u001B[38;5;124m'\u001B[39m] \u001B[38;5;241m=\u001B[39m latlonload\u001B[38;5;241m.\u001B[39mapply(\u001B[38;5;28;01mlambda\u001B[39;00m row: \u001B[38;5;28;43msum\u001B[39;49m\u001B[43m(\u001B[49m\u001B[43mrow\u001B[49m\u001B[43m[\u001B[49m\u001B[43mcol\u001B[49m\u001B[43m]\u001B[49m\u001B[43m \u001B[49m\u001B[38;5;241;43m*\u001B[39;49m\u001B[43m \u001B[49m\u001B[43meconomic_value_vehicles\u001B[49m\u001B[43m[\u001B[49m\u001B[43mcol\u001B[49m\u001B[43m]\u001B[49m\u001B[43m \u001B[49m\u001B[38;5;28;43;01mfor\u001B[39;49;00m\u001B[43m \u001B[49m\u001B[43mcol\u001B[49m\u001B[43m \u001B[49m\u001B[38;5;129;43;01min\u001B[39;49;00m\u001B[43m \u001B[49m\u001B[43mlatlonload\u001B[49m\u001B[38;5;241;43m.\u001B[39;49m\u001B[43mcolumns\u001B[49m\u001B[43m \u001B[49m\u001B[38;5;28;43;01mif\u001B[39;49;00m\u001B[43m \u001B[49m\u001B[43mcol\u001B[49m\u001B[43m \u001B[49m\u001B[38;5;129;43;01min\u001B[39;49;00m\u001B[43m \u001B[49m\u001B[43meconomic_value_vehicles\u001B[49m\u001B[43m)\u001B[49m, axis\u001B[38;5;241m=\u001B[39m\u001B[38;5;241m1\u001B[39m)\n",
      "\u001B[1;31mTypeError\u001B[0m: unsupported operand type(s) for +: 'int' and 'str'"
     ]
    }
   ],
   "source": [
    "#To calculate the economic value of a roadpart, we have to assign economic value to different vehicle types. Afterwards we will multiply these values with the amount of sightings on each road to compute the economic value of a road. The logic behind the values is that for example trucks are able to carry a lot of goods, busses a lot of people and smaller vehicles are more individual focussed, hence the smaller economic impact. It should be noted that these are all estimates as we were unable to find research on the marginal economic impact of these vehicle types. \n",
    "\n",
    "economic_value_vehicles = {'Heavy Truck':10,'Medium Truck': 8,'Small Truck':7,'Large Bus':7,'Medium Bus':6,'Micro Bus':5,'Utility':3,'Car':3,'Auto Rickshaw':2,'Motor Cycle': 1,'Bi-Cycle':0.5,'Cycle Rickshaw':1,'Cart':1}\n",
    "\n",
    "# Calculate the sum of values for each row and multiply by the corresponding economic value\n",
    "latlonload['EVV'] = latlonload.apply(lambda row: sum(row[col] * economic_value_vehicles[col] for col in latlonload.columns if col in economic_value_vehicles), axis=1)\n",
    "\n",
    "\n",
    "\n"
   ],
   "metadata": {
    "collapsed": false,
    "ExecuteTime": {
     "end_time": "2024-04-02T09:21:08.732615500Z",
     "start_time": "2024-04-02T09:21:08.654467500Z"
    }
   },
   "id": "870b7f3c007cd359"
  },
  {
   "cell_type": "code",
   "execution_count": null,
   "outputs": [],
   "source": [],
   "metadata": {
    "collapsed": false
   },
   "id": "283f43141d75dd8c"
  }
 ],
 "metadata": {
  "kernelspec": {
   "display_name": "Python 3",
   "language": "python",
   "name": "python3"
  },
  "language_info": {
   "codemirror_mode": {
    "name": "ipython",
    "version": 2
   },
   "file_extension": ".py",
   "mimetype": "text/x-python",
   "name": "python",
   "nbconvert_exporter": "python",
   "pygments_lexer": "ipython2",
   "version": "2.7.6"
  }
 },
 "nbformat": 4,
 "nbformat_minor": 5
}
