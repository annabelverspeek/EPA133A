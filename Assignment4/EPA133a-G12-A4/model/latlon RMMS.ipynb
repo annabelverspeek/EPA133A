{
 "cells": [
  {
   "cell_type": "code",
   "execution_count": 34,
   "id": "initial_id",
   "metadata": {
    "collapsed": true,
    "ExecuteTime": {
     "end_time": "2024-03-29T14:40:16.604383700Z",
     "start_time": "2024-03-29T14:39:41.193408700Z"
    }
   },
   "outputs": [],
   "source": [
    "import os\n",
    "import pandas as pd\n",
    "\n",
    "# Define the path to the folder\n",
    "path = 'RMMS/'\n",
    "\n",
    "# Get a list of all files in the folder\n",
    "files = [f for f in os.listdir(path) if f.endswith('.lrps.htm')]\n",
    "\n",
    "# Initialize an empty list to store DataFrames\n",
    "dfs = []\n",
    "\n",
    "# Loop through each file\n",
    "for file in files:\n",
    "    # Read HTML tables into a list of DataFrames\n",
    "    tables = pd.read_html(os.path.join(path, file))\n",
    "    \n",
    "    # Combine all tables into a single DataFrame\n",
    "    df = pd.concat(tables)\n",
    "    \n",
    "    # Remove the first row and rows above row 9\n",
    "    df = df.iloc[9:].reset_index(drop=True)\n",
    "    \n",
    "    # Set the correct header using the values from row 9\n",
    "    df.columns = df.iloc[0]\n",
    "    \n",
    "    # Drop the now redundant row 9\n",
    "    df = df.iloc[1:].reset_index(drop=True)\n",
    "    \n",
    "    # Drop the first and last columns\n",
    "    df = df.iloc[:, 1:-1]\n",
    "    \n",
    "    # Add a new column for road number\n",
    "    road_number = file.split('.')[0]  # Extract road number from file name\n",
    "    df['road_number'] = road_number\n",
    "    \n",
    "    # Append the DataFrame to the list\n",
    "    dfs.append(df)\n",
    "\n",
    "# Concatenate all DataFrames into one\n",
    "combined_df = pd.concat(dfs, ignore_index=True)\n",
    "\n",
    "# Save the combined DataFrame to a CSV file\n",
    "combined_df.to_csv('combined_lrps.csv', index=False)\n"
   ]
  },
  {
   "cell_type": "code",
   "execution_count": 37,
   "outputs": [],
   "source": [
    "combined_df.shape\n",
    "combined_df.to_csv('RMMS/combined_lrps.csv', index=False)"
   ],
   "metadata": {
    "collapsed": false,
    "ExecuteTime": {
     "end_time": "2024-03-29T14:44:23.925598800Z",
     "start_time": "2024-03-29T14:44:23.355063Z"
    }
   },
   "id": "fe23cedf5d577c58"
  },
  {
   "cell_type": "code",
   "execution_count": 9,
   "outputs": [
    {
     "data": {
      "text/plain": "  road                                            name   LRP  Offset  \\\n0   N1        Jatrabari - Int.with Z1101 (Left) (Left)  LRPS       0   \n1   N1       Jatrabari - Int.with Z1101 (Left) (Right)  LRPS       0   \n2   N1   Int.with Z1101 - Signboard (Left) R111 (Left)  LRPS     822   \n3   N1  Int.with Z1101 - Signboard (Left) R111 (Right)  LRPS     822   \n4   N1          Signboard - Shimrail (Left)R110 (Left)  LRPS    4175   \n\n   Chainage LRP.1  Offset.1  Chainage.1   (Km) Heavy Truck  ...     Car  \\\n0     0.000  LRPS       822       0.822  0.822       402.0  ...  1851.0   \n1     0.000  LRPS       822       0.822  0.822       660.0  ...  2608.0   \n2     0.822  LRPS      4175       4.175  3.353       660.0  ...  2608.0   \n3     0.822  LRPS      4175       4.175  3.353       402.0  ...  1851.0   \n4     4.175  LRPS      7181       7.181  3.006        91.0  ...  1690.0   \n\n  Auto Rickshaw Motor Cycle Bi-Cycle Cycle Rickshaw Cart Motorized  \\\n0        2980.0       398.0    232.0          889.0  0.0   18236.0   \n1        2508.0       436.0    213.0         1088.0  0.0   20236.0   \n2        2508.0       436.0    213.0         1088.0  0.0   20236.0   \n3        2980.0       398.0    232.0          889.0  0.0   18236.0   \n4        2266.0      1087.0     75.0         1198.0  0.0   16288.0   \n\n  Non Motorized Total AADT   (AADT)  \n0        1121.0    19357.0  19357.0  \n1        1301.0    21537.0  21537.0  \n2        1301.0    21537.0  21537.0  \n3        1121.0    19357.0  19357.0  \n4        1273.0    17561.0  17561.0  \n\n[5 rows x 26 columns]",
      "text/html": "<div>\n<style scoped>\n    .dataframe tbody tr th:only-of-type {\n        vertical-align: middle;\n    }\n\n    .dataframe tbody tr th {\n        vertical-align: top;\n    }\n\n    .dataframe thead th {\n        text-align: right;\n    }\n</style>\n<table border=\"1\" class=\"dataframe\">\n  <thead>\n    <tr style=\"text-align: right;\">\n      <th></th>\n      <th>road</th>\n      <th>name</th>\n      <th>LRP</th>\n      <th>Offset</th>\n      <th>Chainage</th>\n      <th>LRP.1</th>\n      <th>Offset.1</th>\n      <th>Chainage.1</th>\n      <th>(Km)</th>\n      <th>Heavy Truck</th>\n      <th>...</th>\n      <th>Car</th>\n      <th>Auto Rickshaw</th>\n      <th>Motor Cycle</th>\n      <th>Bi-Cycle</th>\n      <th>Cycle Rickshaw</th>\n      <th>Cart</th>\n      <th>Motorized</th>\n      <th>Non Motorized</th>\n      <th>Total AADT</th>\n      <th>(AADT)</th>\n    </tr>\n  </thead>\n  <tbody>\n    <tr>\n      <th>0</th>\n      <td>N1</td>\n      <td>Jatrabari - Int.with Z1101 (Left) (Left)</td>\n      <td>LRPS</td>\n      <td>0</td>\n      <td>0.000</td>\n      <td>LRPS</td>\n      <td>822</td>\n      <td>0.822</td>\n      <td>0.822</td>\n      <td>402.0</td>\n      <td>...</td>\n      <td>1851.0</td>\n      <td>2980.0</td>\n      <td>398.0</td>\n      <td>232.0</td>\n      <td>889.0</td>\n      <td>0.0</td>\n      <td>18236.0</td>\n      <td>1121.0</td>\n      <td>19357.0</td>\n      <td>19357.0</td>\n    </tr>\n    <tr>\n      <th>1</th>\n      <td>N1</td>\n      <td>Jatrabari - Int.with Z1101 (Left) (Right)</td>\n      <td>LRPS</td>\n      <td>0</td>\n      <td>0.000</td>\n      <td>LRPS</td>\n      <td>822</td>\n      <td>0.822</td>\n      <td>0.822</td>\n      <td>660.0</td>\n      <td>...</td>\n      <td>2608.0</td>\n      <td>2508.0</td>\n      <td>436.0</td>\n      <td>213.0</td>\n      <td>1088.0</td>\n      <td>0.0</td>\n      <td>20236.0</td>\n      <td>1301.0</td>\n      <td>21537.0</td>\n      <td>21537.0</td>\n    </tr>\n    <tr>\n      <th>2</th>\n      <td>N1</td>\n      <td>Int.with Z1101 - Signboard (Left) R111 (Left)</td>\n      <td>LRPS</td>\n      <td>822</td>\n      <td>0.822</td>\n      <td>LRPS</td>\n      <td>4175</td>\n      <td>4.175</td>\n      <td>3.353</td>\n      <td>660.0</td>\n      <td>...</td>\n      <td>2608.0</td>\n      <td>2508.0</td>\n      <td>436.0</td>\n      <td>213.0</td>\n      <td>1088.0</td>\n      <td>0.0</td>\n      <td>20236.0</td>\n      <td>1301.0</td>\n      <td>21537.0</td>\n      <td>21537.0</td>\n    </tr>\n    <tr>\n      <th>3</th>\n      <td>N1</td>\n      <td>Int.with Z1101 - Signboard (Left) R111 (Right)</td>\n      <td>LRPS</td>\n      <td>822</td>\n      <td>0.822</td>\n      <td>LRPS</td>\n      <td>4175</td>\n      <td>4.175</td>\n      <td>3.353</td>\n      <td>402.0</td>\n      <td>...</td>\n      <td>1851.0</td>\n      <td>2980.0</td>\n      <td>398.0</td>\n      <td>232.0</td>\n      <td>889.0</td>\n      <td>0.0</td>\n      <td>18236.0</td>\n      <td>1121.0</td>\n      <td>19357.0</td>\n      <td>19357.0</td>\n    </tr>\n    <tr>\n      <th>4</th>\n      <td>N1</td>\n      <td>Signboard - Shimrail (Left)R110 (Left)</td>\n      <td>LRPS</td>\n      <td>4175</td>\n      <td>4.175</td>\n      <td>LRPS</td>\n      <td>7181</td>\n      <td>7.181</td>\n      <td>3.006</td>\n      <td>91.0</td>\n      <td>...</td>\n      <td>1690.0</td>\n      <td>2266.0</td>\n      <td>1087.0</td>\n      <td>75.0</td>\n      <td>1198.0</td>\n      <td>0.0</td>\n      <td>16288.0</td>\n      <td>1273.0</td>\n      <td>17561.0</td>\n      <td>17561.0</td>\n    </tr>\n  </tbody>\n</table>\n<p>5 rows × 26 columns</p>\n</div>"
     },
     "execution_count": 9,
     "metadata": {},
     "output_type": "execute_result"
    }
   ],
   "source": [
    "import pandas as pd\n",
    "\n",
    "traffic_df = pd.read_csv('traffic.csv')\n",
    "traffic_df.head()"
   ],
   "metadata": {
    "collapsed": false,
    "ExecuteTime": {
     "end_time": "2024-04-01T17:49:25.567912800Z",
     "start_time": "2024-04-01T17:49:25.503612900Z"
    }
   },
   "id": "7bd0bcce64ab4ec5"
  },
  {
   "cell_type": "code",
   "execution_count": 12,
   "outputs": [
    {
     "data": {
      "text/plain": "  road                                            name LRP Start  \\\n0   N1        Jatrabari - Int.with Z1101 (Left) (Left)      LRPS   \n1   N1       Jatrabari - Int.with Z1101 (Left) (Right)      LRPS   \n2   N1   Int.with Z1101 - Signboard (Left) R111 (Left)      LRPS   \n3   N1  Int.with Z1101 - Signboard (Left) R111 (Right)      LRPS   \n4   N1          Signboard - Shimrail (Left)R110 (Left)      LRPS   \n\n   Offset Start  Chainage Start LRP End  Offset End  Chainage End   (Km)  \\\n0             0           0.000    LRPS         822         0.822  0.822   \n1             0           0.000    LRPS         822         0.822  0.822   \n2           822           0.822    LRPS        4175         4.175  3.353   \n3           822           0.822    LRPS        4175         4.175  3.353   \n4          4175           4.175    LRPS        7181         7.181  3.006   \n\n  Heavy Truck  ...     Car Auto Rickshaw Motor Cycle Bi-Cycle Cycle Rickshaw  \\\n0       402.0  ...  1851.0        2980.0       398.0    232.0          889.0   \n1       660.0  ...  2608.0        2508.0       436.0    213.0         1088.0   \n2       660.0  ...  2608.0        2508.0       436.0    213.0         1088.0   \n3       402.0  ...  1851.0        2980.0       398.0    232.0          889.0   \n4        91.0  ...  1690.0        2266.0      1087.0     75.0         1198.0   \n\n  Cart Motorized Non Motorized Total AADT   (AADT)  \n0  0.0   18236.0        1121.0    19357.0  19357.0  \n1  0.0   20236.0        1301.0    21537.0  21537.0  \n2  0.0   20236.0        1301.0    21537.0  21537.0  \n3  0.0   18236.0        1121.0    19357.0  19357.0  \n4  0.0   16288.0        1273.0    17561.0  17561.0  \n\n[5 rows x 26 columns]",
      "text/html": "<div>\n<style scoped>\n    .dataframe tbody tr th:only-of-type {\n        vertical-align: middle;\n    }\n\n    .dataframe tbody tr th {\n        vertical-align: top;\n    }\n\n    .dataframe thead th {\n        text-align: right;\n    }\n</style>\n<table border=\"1\" class=\"dataframe\">\n  <thead>\n    <tr style=\"text-align: right;\">\n      <th></th>\n      <th>road</th>\n      <th>name</th>\n      <th>LRP Start</th>\n      <th>Offset Start</th>\n      <th>Chainage Start</th>\n      <th>LRP End</th>\n      <th>Offset End</th>\n      <th>Chainage End</th>\n      <th>(Km)</th>\n      <th>Heavy Truck</th>\n      <th>...</th>\n      <th>Car</th>\n      <th>Auto Rickshaw</th>\n      <th>Motor Cycle</th>\n      <th>Bi-Cycle</th>\n      <th>Cycle Rickshaw</th>\n      <th>Cart</th>\n      <th>Motorized</th>\n      <th>Non Motorized</th>\n      <th>Total AADT</th>\n      <th>(AADT)</th>\n    </tr>\n  </thead>\n  <tbody>\n    <tr>\n      <th>0</th>\n      <td>N1</td>\n      <td>Jatrabari - Int.with Z1101 (Left) (Left)</td>\n      <td>LRPS</td>\n      <td>0</td>\n      <td>0.000</td>\n      <td>LRPS</td>\n      <td>822</td>\n      <td>0.822</td>\n      <td>0.822</td>\n      <td>402.0</td>\n      <td>...</td>\n      <td>1851.0</td>\n      <td>2980.0</td>\n      <td>398.0</td>\n      <td>232.0</td>\n      <td>889.0</td>\n      <td>0.0</td>\n      <td>18236.0</td>\n      <td>1121.0</td>\n      <td>19357.0</td>\n      <td>19357.0</td>\n    </tr>\n    <tr>\n      <th>1</th>\n      <td>N1</td>\n      <td>Jatrabari - Int.with Z1101 (Left) (Right)</td>\n      <td>LRPS</td>\n      <td>0</td>\n      <td>0.000</td>\n      <td>LRPS</td>\n      <td>822</td>\n      <td>0.822</td>\n      <td>0.822</td>\n      <td>660.0</td>\n      <td>...</td>\n      <td>2608.0</td>\n      <td>2508.0</td>\n      <td>436.0</td>\n      <td>213.0</td>\n      <td>1088.0</td>\n      <td>0.0</td>\n      <td>20236.0</td>\n      <td>1301.0</td>\n      <td>21537.0</td>\n      <td>21537.0</td>\n    </tr>\n    <tr>\n      <th>2</th>\n      <td>N1</td>\n      <td>Int.with Z1101 - Signboard (Left) R111 (Left)</td>\n      <td>LRPS</td>\n      <td>822</td>\n      <td>0.822</td>\n      <td>LRPS</td>\n      <td>4175</td>\n      <td>4.175</td>\n      <td>3.353</td>\n      <td>660.0</td>\n      <td>...</td>\n      <td>2608.0</td>\n      <td>2508.0</td>\n      <td>436.0</td>\n      <td>213.0</td>\n      <td>1088.0</td>\n      <td>0.0</td>\n      <td>20236.0</td>\n      <td>1301.0</td>\n      <td>21537.0</td>\n      <td>21537.0</td>\n    </tr>\n    <tr>\n      <th>3</th>\n      <td>N1</td>\n      <td>Int.with Z1101 - Signboard (Left) R111 (Right)</td>\n      <td>LRPS</td>\n      <td>822</td>\n      <td>0.822</td>\n      <td>LRPS</td>\n      <td>4175</td>\n      <td>4.175</td>\n      <td>3.353</td>\n      <td>402.0</td>\n      <td>...</td>\n      <td>1851.0</td>\n      <td>2980.0</td>\n      <td>398.0</td>\n      <td>232.0</td>\n      <td>889.0</td>\n      <td>0.0</td>\n      <td>18236.0</td>\n      <td>1121.0</td>\n      <td>19357.0</td>\n      <td>19357.0</td>\n    </tr>\n    <tr>\n      <th>4</th>\n      <td>N1</td>\n      <td>Signboard - Shimrail (Left)R110 (Left)</td>\n      <td>LRPS</td>\n      <td>4175</td>\n      <td>4.175</td>\n      <td>LRPS</td>\n      <td>7181</td>\n      <td>7.181</td>\n      <td>3.006</td>\n      <td>91.0</td>\n      <td>...</td>\n      <td>1690.0</td>\n      <td>2266.0</td>\n      <td>1087.0</td>\n      <td>75.0</td>\n      <td>1198.0</td>\n      <td>0.0</td>\n      <td>16288.0</td>\n      <td>1273.0</td>\n      <td>17561.0</td>\n      <td>17561.0</td>\n    </tr>\n  </tbody>\n</table>\n<p>5 rows × 26 columns</p>\n</div>"
     },
     "execution_count": 12,
     "metadata": {},
     "output_type": "execute_result"
    }
   ],
   "source": [
    "traffic_df= traffic_df.rename(columns = { 'LRP':'LRP Start', 'Offset': 'Offset Start', 'Chainage':'Chainage Start', 'LRP.1':'LRP End', 'Offset.1': 'Offset End', 'Chainage.1':'Chainage End'})\n",
    "traffic_df.head()"
   ],
   "metadata": {
    "collapsed": false,
    "ExecuteTime": {
     "end_time": "2024-04-01T17:52:28.009256700Z",
     "start_time": "2024-04-01T17:52:27.958725600Z"
    }
   },
   "id": "5eb02de68fdad660"
  },
  {
   "cell_type": "code",
   "execution_count": 21,
   "outputs": [],
   "source": [
    "# Gaat hier nu alleen op LRP nummer maar moet ook nog op weg nummer (bv N1 of Z8004), even uitzoeken hoe dit werkt. \n",
    "combined_lrps = pd.read_csv('combined_lrps.csv')\n",
    "\n",
    "latlonload = pd.merge(traffic_df, combined_lrps, left_on=['LRP Start','road'], right_on=['LRP No', 'road_number'] )"
   ],
   "metadata": {
    "collapsed": false,
    "ExecuteTime": {
     "end_time": "2024-04-02T07:23:28.146368800Z",
     "start_time": "2024-04-02T07:23:27.785339Z"
    }
   },
   "id": "7114780687549dcc"
  },
  {
   "cell_type": "code",
   "execution_count": 23,
   "outputs": [
    {
     "data": {
      "text/plain": "       road                                               name LRP Start  \\\n6172  Z8915             Bagmara - Bangla Bazar (Int.with R890)      LRPS   \n6173  Z8915             Bagmara - Bangla Bazar (Int.with R890)      LRPS   \n6174  Z8915      Bangla Bazar (Int.with R890) - Int.with Z8916    LRP004   \n6175  Z8915      Bangla Bazar (Int.with R890) - Int.with Z8916    LRP004   \n6176  Z8915      Bangla Bazar (Int.with R890) - Int.with Z8916    LRP004   \n6177  Z8915                        Int.with Z8916 - Daulatkhan    LRP010   \n6178  Z8915                        Int.with Z8916 - Daulatkhan    LRP010   \n6179  Z8915                        Int.with Z8916 - Daulatkhan    LRP010   \n6180  Z8916        Guingerhat (Int.with R890) - Int.with Z8915      LRPS   \n6181  Z8916        Guingerhat (Int.with R890) - Int.with Z8915      LRPS   \n6182  Z8916        Guingerhat (Int.with R890) - Int.with Z8915      LRPS   \n6183  Z8916                  Int.with Z8915 - Daulatkhan Bazar    LRP004   \n6184  Z8916                  Int.with Z8915 - Daulatkhan Bazar    LRP004   \n6185  Z8916                  Int.with Z8915 - Daulatkhan Bazar    LRP004   \n6186  Z8943  Tazumuddin (Int.with Z8905) - Fakirhat (Int.wi...      LRPS   \n6187  Z8943  Tazumuddin (Int.with Z8905) - Fakirhat (Int.wi...      LRPS   \n6188  Z8943  Tazumuddin (Int.with Z8905) - Fakirhat (Int.wi...      LRPS   \n6189  Z8943  Fakirhat (Int.with Z8948) - Kungerhat (Int.wit...      LRPS   \n6190  Z8943  Fakirhat (Int.with Z8948) - Kungerhat (Int.wit...      LRPS   \n6191  Z8943  Fakirhat (Int.with Z8948) - Kungerhat (Int.wit...      LRPS   \n\n      Offset Start  Chainage Start LRP End  Offset End  Chainage End   (Km)  \\\n6172             0           0.000  LRP004        1020         4.350  4.350   \n6173             0           0.000  LRP004        1020         4.350  4.350   \n6174          1020           4.350  LRP010        1150        10.470  6.120   \n6175          1020           4.350  LRP010        1150        10.470  6.120   \n6176          1020           4.350  LRP010        1150        10.470  6.120   \n6177          1150          10.470  LRP014        2290        15.660  5.190   \n6178          1150          10.470  LRP014        2290        15.660  5.190   \n6179          1150          10.470  LRP014        2290        15.660  5.190   \n6180             0           0.000  LRP004        3626         7.626  7.626   \n6181             0           0.000  LRP004        3626         7.626  7.626   \n6182             0           0.000  LRP004        3626         7.626  7.626   \n6183          3626           7.626  LRP005        6600        11.591  3.965   \n6184          3626           7.626  LRP005        6600        11.591  3.965   \n6185          3626           7.626  LRP005        6600        11.591  3.965   \n6186             0           0.000    LRPS        6446         6.446  6.446   \n6187             0           0.000    LRPS        6446         6.446  6.446   \n6188             0           0.000    LRPS        6446         6.446  6.446   \n6189          6446           6.446    LRPS        8800         8.800  2.354   \n6190          6446           6.446    LRPS        8800         8.800  2.354   \n6191          6446           6.446    LRPS        8800         8.800  2.354   \n\n     Heavy Truck  ... Non Motorized Total AADT  (AADT)  LRP No Road Chainage  \\\n6172         0.0  ...        1148.0     3522.0  3522.0    LRPS             0   \n6173         0.0  ...        1148.0     3522.0  3522.0    LRPS             0   \n6174         0.0  ...         776.0     3117.0  3117.0  LRP004         3.366   \n6175         0.0  ...         776.0     3117.0  3117.0  LRP004         3.366   \n6176         0.0  ...         776.0     3117.0  3117.0  LRP004         3.366   \n6177         0.0  ...         776.0     3117.0  3117.0  LRP010         9.376   \n6178         0.0  ...         776.0     3117.0  3117.0  LRP010         9.376   \n6179         0.0  ...         776.0     3117.0  3117.0  LRP010         9.376   \n6180         0.0  ...         977.0     2440.0  2440.0    LRPS             0   \n6181         0.0  ...         977.0     2440.0  2440.0    LRPS             0   \n6182         0.0  ...         977.0     2440.0  2440.0    LRPS             0   \n6183         0.0  ...         977.0     2440.0  2440.0  LRP004             4   \n6184         0.0  ...         977.0     2440.0  2440.0  LRP004             4   \n6185         0.0  ...         977.0     2440.0  2440.0  LRP004             4   \n6186         0.0  ...        1112.0     3083.0  3083.0    LRPS             0   \n6187         0.0  ...        1112.0     3083.0  3083.0    LRPS             0   \n6188         0.0  ...        1112.0     3083.0  3083.0    LRPS             0   \n6189         0.0  ...        1112.0     3083.0  3083.0    LRPS             0   \n6190         0.0  ...        1112.0     3083.0  3083.0    LRPS             0   \n6191         0.0  ...        1112.0     3083.0  3083.0    LRPS             0   \n\n     LRP TYPE                                        Description  \\\n6172   Others           Start at Bagmara Infront of Launch Ghat.   \n6173   Others           Start at Bagmara Infront of Launch Ghat.   \n6174  Km Post                                        Inf missing   \n6175  Km Post                                        Inf missing   \n6176  Km Post                                        Inf missing   \n6177  Km Post                                        Inf missing   \n6178  Km Post                                        Inf missing   \n6179  Km Post                                        Inf missing   \n6180   Others          Start from R890 at Guingerhat Bazar Dhola   \n6181   Others          Start from R890 at Guingerhat Bazar Dhola   \n6182   Others          Start from R890 at Guingerhat Bazar Dhola   \n6183  Km Post                                Information missing   \n6184  Km Post                                Information missing   \n6185  Km Post                                Information missing   \n6186   Others  Start at intersection of Z8905 /BC joint infro...   \n6187   Others  Start at intersection of Z8905 /BC joint infro...   \n6188   Others  Start at intersection of Z8905 /BC joint infro...   \n6189   Others  Start at intersection of Z8905 /BC joint infro...   \n6190   Others  Start at intersection of Z8905 /BC joint infro...   \n6191   Others  Start at intersection of Z8905 /BC joint infro...   \n\n     Latitude Decimal Longitued Decimal road_number  \n6172       22.5893886        90.6194716       Z8915  \n6173       22.5893886        90.6194716       Z8915  \n6174       22.5926941        90.6494719       Z8915  \n6175       22.5926941        90.6494719       Z8915  \n6176       22.5926941        90.6494719       Z8915  \n6177       22.6011389        90.7048333       Z8915  \n6178       22.6011389        90.7048333       Z8915  \n6179       22.6011389        90.7048333       Z8915  \n6180       22.6254993        90.6617222       Z8916  \n6181       22.6254993        90.6617222       Z8916  \n6182       22.6254993        90.6617222       Z8916  \n6183       22.6189716        90.6941108       Z8916  \n6184       22.6189716        90.6941108       Z8916  \n6185       22.6189716        90.6941108       Z8916  \n6186       22.4264438        90.8494719       Z8943  \n6187       22.4264438        90.8494719       Z8943  \n6188       22.4264438        90.8494719       Z8943  \n6189       22.4264438        90.8494719       Z8943  \n6190       22.4264438        90.8494719       Z8943  \n6191       22.4264438        90.8494719       Z8943  \n\n[20 rows x 33 columns]",
      "text/html": "<div>\n<style scoped>\n    .dataframe tbody tr th:only-of-type {\n        vertical-align: middle;\n    }\n\n    .dataframe tbody tr th {\n        vertical-align: top;\n    }\n\n    .dataframe thead th {\n        text-align: right;\n    }\n</style>\n<table border=\"1\" class=\"dataframe\">\n  <thead>\n    <tr style=\"text-align: right;\">\n      <th></th>\n      <th>road</th>\n      <th>name</th>\n      <th>LRP Start</th>\n      <th>Offset Start</th>\n      <th>Chainage Start</th>\n      <th>LRP End</th>\n      <th>Offset End</th>\n      <th>Chainage End</th>\n      <th>(Km)</th>\n      <th>Heavy Truck</th>\n      <th>...</th>\n      <th>Non Motorized</th>\n      <th>Total AADT</th>\n      <th>(AADT)</th>\n      <th>LRP No</th>\n      <th>Road Chainage</th>\n      <th>LRP TYPE</th>\n      <th>Description</th>\n      <th>Latitude Decimal</th>\n      <th>Longitued Decimal</th>\n      <th>road_number</th>\n    </tr>\n  </thead>\n  <tbody>\n    <tr>\n      <th>6172</th>\n      <td>Z8915</td>\n      <td>Bagmara - Bangla Bazar (Int.with R890)</td>\n      <td>LRPS</td>\n      <td>0</td>\n      <td>0.000</td>\n      <td>LRP004</td>\n      <td>1020</td>\n      <td>4.350</td>\n      <td>4.350</td>\n      <td>0.0</td>\n      <td>...</td>\n      <td>1148.0</td>\n      <td>3522.0</td>\n      <td>3522.0</td>\n      <td>LRPS</td>\n      <td>0</td>\n      <td>Others</td>\n      <td>Start at Bagmara Infront of Launch Ghat.</td>\n      <td>22.5893886</td>\n      <td>90.6194716</td>\n      <td>Z8915</td>\n    </tr>\n    <tr>\n      <th>6173</th>\n      <td>Z8915</td>\n      <td>Bagmara - Bangla Bazar (Int.with R890)</td>\n      <td>LRPS</td>\n      <td>0</td>\n      <td>0.000</td>\n      <td>LRP004</td>\n      <td>1020</td>\n      <td>4.350</td>\n      <td>4.350</td>\n      <td>0.0</td>\n      <td>...</td>\n      <td>1148.0</td>\n      <td>3522.0</td>\n      <td>3522.0</td>\n      <td>LRPS</td>\n      <td>0</td>\n      <td>Others</td>\n      <td>Start at Bagmara Infront of Launch Ghat.</td>\n      <td>22.5893886</td>\n      <td>90.6194716</td>\n      <td>Z8915</td>\n    </tr>\n    <tr>\n      <th>6174</th>\n      <td>Z8915</td>\n      <td>Bangla Bazar (Int.with R890) - Int.with Z8916</td>\n      <td>LRP004</td>\n      <td>1020</td>\n      <td>4.350</td>\n      <td>LRP010</td>\n      <td>1150</td>\n      <td>10.470</td>\n      <td>6.120</td>\n      <td>0.0</td>\n      <td>...</td>\n      <td>776.0</td>\n      <td>3117.0</td>\n      <td>3117.0</td>\n      <td>LRP004</td>\n      <td>3.366</td>\n      <td>Km Post</td>\n      <td>Inf missing</td>\n      <td>22.5926941</td>\n      <td>90.6494719</td>\n      <td>Z8915</td>\n    </tr>\n    <tr>\n      <th>6175</th>\n      <td>Z8915</td>\n      <td>Bangla Bazar (Int.with R890) - Int.with Z8916</td>\n      <td>LRP004</td>\n      <td>1020</td>\n      <td>4.350</td>\n      <td>LRP010</td>\n      <td>1150</td>\n      <td>10.470</td>\n      <td>6.120</td>\n      <td>0.0</td>\n      <td>...</td>\n      <td>776.0</td>\n      <td>3117.0</td>\n      <td>3117.0</td>\n      <td>LRP004</td>\n      <td>3.366</td>\n      <td>Km Post</td>\n      <td>Inf missing</td>\n      <td>22.5926941</td>\n      <td>90.6494719</td>\n      <td>Z8915</td>\n    </tr>\n    <tr>\n      <th>6176</th>\n      <td>Z8915</td>\n      <td>Bangla Bazar (Int.with R890) - Int.with Z8916</td>\n      <td>LRP004</td>\n      <td>1020</td>\n      <td>4.350</td>\n      <td>LRP010</td>\n      <td>1150</td>\n      <td>10.470</td>\n      <td>6.120</td>\n      <td>0.0</td>\n      <td>...</td>\n      <td>776.0</td>\n      <td>3117.0</td>\n      <td>3117.0</td>\n      <td>LRP004</td>\n      <td>3.366</td>\n      <td>Km Post</td>\n      <td>Inf missing</td>\n      <td>22.5926941</td>\n      <td>90.6494719</td>\n      <td>Z8915</td>\n    </tr>\n    <tr>\n      <th>6177</th>\n      <td>Z8915</td>\n      <td>Int.with Z8916 - Daulatkhan</td>\n      <td>LRP010</td>\n      <td>1150</td>\n      <td>10.470</td>\n      <td>LRP014</td>\n      <td>2290</td>\n      <td>15.660</td>\n      <td>5.190</td>\n      <td>0.0</td>\n      <td>...</td>\n      <td>776.0</td>\n      <td>3117.0</td>\n      <td>3117.0</td>\n      <td>LRP010</td>\n      <td>9.376</td>\n      <td>Km Post</td>\n      <td>Inf missing</td>\n      <td>22.6011389</td>\n      <td>90.7048333</td>\n      <td>Z8915</td>\n    </tr>\n    <tr>\n      <th>6178</th>\n      <td>Z8915</td>\n      <td>Int.with Z8916 - Daulatkhan</td>\n      <td>LRP010</td>\n      <td>1150</td>\n      <td>10.470</td>\n      <td>LRP014</td>\n      <td>2290</td>\n      <td>15.660</td>\n      <td>5.190</td>\n      <td>0.0</td>\n      <td>...</td>\n      <td>776.0</td>\n      <td>3117.0</td>\n      <td>3117.0</td>\n      <td>LRP010</td>\n      <td>9.376</td>\n      <td>Km Post</td>\n      <td>Inf missing</td>\n      <td>22.6011389</td>\n      <td>90.7048333</td>\n      <td>Z8915</td>\n    </tr>\n    <tr>\n      <th>6179</th>\n      <td>Z8915</td>\n      <td>Int.with Z8916 - Daulatkhan</td>\n      <td>LRP010</td>\n      <td>1150</td>\n      <td>10.470</td>\n      <td>LRP014</td>\n      <td>2290</td>\n      <td>15.660</td>\n      <td>5.190</td>\n      <td>0.0</td>\n      <td>...</td>\n      <td>776.0</td>\n      <td>3117.0</td>\n      <td>3117.0</td>\n      <td>LRP010</td>\n      <td>9.376</td>\n      <td>Km Post</td>\n      <td>Inf missing</td>\n      <td>22.6011389</td>\n      <td>90.7048333</td>\n      <td>Z8915</td>\n    </tr>\n    <tr>\n      <th>6180</th>\n      <td>Z8916</td>\n      <td>Guingerhat (Int.with R890) - Int.with Z8915</td>\n      <td>LRPS</td>\n      <td>0</td>\n      <td>0.000</td>\n      <td>LRP004</td>\n      <td>3626</td>\n      <td>7.626</td>\n      <td>7.626</td>\n      <td>0.0</td>\n      <td>...</td>\n      <td>977.0</td>\n      <td>2440.0</td>\n      <td>2440.0</td>\n      <td>LRPS</td>\n      <td>0</td>\n      <td>Others</td>\n      <td>Start from R890 at Guingerhat Bazar Dhola</td>\n      <td>22.6254993</td>\n      <td>90.6617222</td>\n      <td>Z8916</td>\n    </tr>\n    <tr>\n      <th>6181</th>\n      <td>Z8916</td>\n      <td>Guingerhat (Int.with R890) - Int.with Z8915</td>\n      <td>LRPS</td>\n      <td>0</td>\n      <td>0.000</td>\n      <td>LRP004</td>\n      <td>3626</td>\n      <td>7.626</td>\n      <td>7.626</td>\n      <td>0.0</td>\n      <td>...</td>\n      <td>977.0</td>\n      <td>2440.0</td>\n      <td>2440.0</td>\n      <td>LRPS</td>\n      <td>0</td>\n      <td>Others</td>\n      <td>Start from R890 at Guingerhat Bazar Dhola</td>\n      <td>22.6254993</td>\n      <td>90.6617222</td>\n      <td>Z8916</td>\n    </tr>\n    <tr>\n      <th>6182</th>\n      <td>Z8916</td>\n      <td>Guingerhat (Int.with R890) - Int.with Z8915</td>\n      <td>LRPS</td>\n      <td>0</td>\n      <td>0.000</td>\n      <td>LRP004</td>\n      <td>3626</td>\n      <td>7.626</td>\n      <td>7.626</td>\n      <td>0.0</td>\n      <td>...</td>\n      <td>977.0</td>\n      <td>2440.0</td>\n      <td>2440.0</td>\n      <td>LRPS</td>\n      <td>0</td>\n      <td>Others</td>\n      <td>Start from R890 at Guingerhat Bazar Dhola</td>\n      <td>22.6254993</td>\n      <td>90.6617222</td>\n      <td>Z8916</td>\n    </tr>\n    <tr>\n      <th>6183</th>\n      <td>Z8916</td>\n      <td>Int.with Z8915 - Daulatkhan Bazar</td>\n      <td>LRP004</td>\n      <td>3626</td>\n      <td>7.626</td>\n      <td>LRP005</td>\n      <td>6600</td>\n      <td>11.591</td>\n      <td>3.965</td>\n      <td>0.0</td>\n      <td>...</td>\n      <td>977.0</td>\n      <td>2440.0</td>\n      <td>2440.0</td>\n      <td>LRP004</td>\n      <td>4</td>\n      <td>Km Post</td>\n      <td>Information missing</td>\n      <td>22.6189716</td>\n      <td>90.6941108</td>\n      <td>Z8916</td>\n    </tr>\n    <tr>\n      <th>6184</th>\n      <td>Z8916</td>\n      <td>Int.with Z8915 - Daulatkhan Bazar</td>\n      <td>LRP004</td>\n      <td>3626</td>\n      <td>7.626</td>\n      <td>LRP005</td>\n      <td>6600</td>\n      <td>11.591</td>\n      <td>3.965</td>\n      <td>0.0</td>\n      <td>...</td>\n      <td>977.0</td>\n      <td>2440.0</td>\n      <td>2440.0</td>\n      <td>LRP004</td>\n      <td>4</td>\n      <td>Km Post</td>\n      <td>Information missing</td>\n      <td>22.6189716</td>\n      <td>90.6941108</td>\n      <td>Z8916</td>\n    </tr>\n    <tr>\n      <th>6185</th>\n      <td>Z8916</td>\n      <td>Int.with Z8915 - Daulatkhan Bazar</td>\n      <td>LRP004</td>\n      <td>3626</td>\n      <td>7.626</td>\n      <td>LRP005</td>\n      <td>6600</td>\n      <td>11.591</td>\n      <td>3.965</td>\n      <td>0.0</td>\n      <td>...</td>\n      <td>977.0</td>\n      <td>2440.0</td>\n      <td>2440.0</td>\n      <td>LRP004</td>\n      <td>4</td>\n      <td>Km Post</td>\n      <td>Information missing</td>\n      <td>22.6189716</td>\n      <td>90.6941108</td>\n      <td>Z8916</td>\n    </tr>\n    <tr>\n      <th>6186</th>\n      <td>Z8943</td>\n      <td>Tazumuddin (Int.with Z8905) - Fakirhat (Int.wi...</td>\n      <td>LRPS</td>\n      <td>0</td>\n      <td>0.000</td>\n      <td>LRPS</td>\n      <td>6446</td>\n      <td>6.446</td>\n      <td>6.446</td>\n      <td>0.0</td>\n      <td>...</td>\n      <td>1112.0</td>\n      <td>3083.0</td>\n      <td>3083.0</td>\n      <td>LRPS</td>\n      <td>0</td>\n      <td>Others</td>\n      <td>Start at intersection of Z8905 /BC joint infro...</td>\n      <td>22.4264438</td>\n      <td>90.8494719</td>\n      <td>Z8943</td>\n    </tr>\n    <tr>\n      <th>6187</th>\n      <td>Z8943</td>\n      <td>Tazumuddin (Int.with Z8905) - Fakirhat (Int.wi...</td>\n      <td>LRPS</td>\n      <td>0</td>\n      <td>0.000</td>\n      <td>LRPS</td>\n      <td>6446</td>\n      <td>6.446</td>\n      <td>6.446</td>\n      <td>0.0</td>\n      <td>...</td>\n      <td>1112.0</td>\n      <td>3083.0</td>\n      <td>3083.0</td>\n      <td>LRPS</td>\n      <td>0</td>\n      <td>Others</td>\n      <td>Start at intersection of Z8905 /BC joint infro...</td>\n      <td>22.4264438</td>\n      <td>90.8494719</td>\n      <td>Z8943</td>\n    </tr>\n    <tr>\n      <th>6188</th>\n      <td>Z8943</td>\n      <td>Tazumuddin (Int.with Z8905) - Fakirhat (Int.wi...</td>\n      <td>LRPS</td>\n      <td>0</td>\n      <td>0.000</td>\n      <td>LRPS</td>\n      <td>6446</td>\n      <td>6.446</td>\n      <td>6.446</td>\n      <td>0.0</td>\n      <td>...</td>\n      <td>1112.0</td>\n      <td>3083.0</td>\n      <td>3083.0</td>\n      <td>LRPS</td>\n      <td>0</td>\n      <td>Others</td>\n      <td>Start at intersection of Z8905 /BC joint infro...</td>\n      <td>22.4264438</td>\n      <td>90.8494719</td>\n      <td>Z8943</td>\n    </tr>\n    <tr>\n      <th>6189</th>\n      <td>Z8943</td>\n      <td>Fakirhat (Int.with Z8948) - Kungerhat (Int.wit...</td>\n      <td>LRPS</td>\n      <td>6446</td>\n      <td>6.446</td>\n      <td>LRPS</td>\n      <td>8800</td>\n      <td>8.800</td>\n      <td>2.354</td>\n      <td>0.0</td>\n      <td>...</td>\n      <td>1112.0</td>\n      <td>3083.0</td>\n      <td>3083.0</td>\n      <td>LRPS</td>\n      <td>0</td>\n      <td>Others</td>\n      <td>Start at intersection of Z8905 /BC joint infro...</td>\n      <td>22.4264438</td>\n      <td>90.8494719</td>\n      <td>Z8943</td>\n    </tr>\n    <tr>\n      <th>6190</th>\n      <td>Z8943</td>\n      <td>Fakirhat (Int.with Z8948) - Kungerhat (Int.wit...</td>\n      <td>LRPS</td>\n      <td>6446</td>\n      <td>6.446</td>\n      <td>LRPS</td>\n      <td>8800</td>\n      <td>8.800</td>\n      <td>2.354</td>\n      <td>0.0</td>\n      <td>...</td>\n      <td>1112.0</td>\n      <td>3083.0</td>\n      <td>3083.0</td>\n      <td>LRPS</td>\n      <td>0</td>\n      <td>Others</td>\n      <td>Start at intersection of Z8905 /BC joint infro...</td>\n      <td>22.4264438</td>\n      <td>90.8494719</td>\n      <td>Z8943</td>\n    </tr>\n    <tr>\n      <th>6191</th>\n      <td>Z8943</td>\n      <td>Fakirhat (Int.with Z8948) - Kungerhat (Int.wit...</td>\n      <td>LRPS</td>\n      <td>6446</td>\n      <td>6.446</td>\n      <td>LRPS</td>\n      <td>8800</td>\n      <td>8.800</td>\n      <td>2.354</td>\n      <td>0.0</td>\n      <td>...</td>\n      <td>1112.0</td>\n      <td>3083.0</td>\n      <td>3083.0</td>\n      <td>LRPS</td>\n      <td>0</td>\n      <td>Others</td>\n      <td>Start at intersection of Z8905 /BC joint infro...</td>\n      <td>22.4264438</td>\n      <td>90.8494719</td>\n      <td>Z8943</td>\n    </tr>\n  </tbody>\n</table>\n<p>20 rows × 33 columns</p>\n</div>"
     },
     "execution_count": 23,
     "metadata": {},
     "output_type": "execute_result"
    }
   ],
   "source": [
    "latlonload.tail(20)"
   ],
   "metadata": {
    "collapsed": false,
    "ExecuteTime": {
     "end_time": "2024-04-02T07:29:39.903497500Z",
     "start_time": "2024-04-02T07:29:39.851988600Z"
    }
   },
   "id": "ad0fdec97727faa4"
  }
 ],
 "metadata": {
  "kernelspec": {
   "display_name": "Python 3",
   "language": "python",
   "name": "python3"
  },
  "language_info": {
   "codemirror_mode": {
    "name": "ipython",
    "version": 2
   },
   "file_extension": ".py",
   "mimetype": "text/x-python",
   "name": "python",
   "nbconvert_exporter": "python",
   "pygments_lexer": "ipython2",
   "version": "2.7.6"
  }
 },
 "nbformat": 4,
 "nbformat_minor": 5
}
