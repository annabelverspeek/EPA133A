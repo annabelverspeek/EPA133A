{
 "cells": [
  {
   "cell_type": "code",
   "execution_count": 34,
   "id": "initial_id",
   "metadata": {
    "collapsed": true,
    "ExecuteTime": {
     "end_time": "2024-03-29T14:40:16.604383700Z",
     "start_time": "2024-03-29T14:39:41.193408700Z"
    }
   },
   "outputs": [],
   "source": [
    "import os\n",
    "import pandas as pd\n",
    "\n",
    "# Define the path to the folder\n",
    "path = 'RMMS/'\n",
    "\n",
    "# Get a list of all files in the folder\n",
    "files = [f for f in os.listdir(path) if f.endswith('.lrps.htm')]\n",
    "\n",
    "# Initialize an empty list to store DataFrames\n",
    "dfs = []\n",
    "\n",
    "# Loop through each file\n",
    "for file in files:\n",
    "    # Read HTML tables into a list of DataFrames\n",
    "    tables = pd.read_html(os.path.join(path, file))\n",
    "    \n",
    "    # Combine all tables into a single DataFrame\n",
    "    df = pd.concat(tables)\n",
    "    \n",
    "    # Remove the first row and rows above row 9\n",
    "    df = df.iloc[9:].reset_index(drop=True)\n",
    "    \n",
    "    # Set the correct header using the values from row 9\n",
    "    df.columns = df.iloc[0]\n",
    "    \n",
    "    # Drop the now redundant row 9\n",
    "    df = df.iloc[1:].reset_index(drop=True)\n",
    "    \n",
    "    # Drop the first and last columns\n",
    "    df = df.iloc[:, 1:-1]\n",
    "    \n",
    "    # Add a new column for road number\n",
    "    road_number = file.split('.')[0]  # Extract road number from file name\n",
    "    df['road_number'] = road_number\n",
    "    \n",
    "    # Append the DataFrame to the list\n",
    "    dfs.append(df)\n",
    "\n",
    "# Concatenate all DataFrames into one\n",
    "combined_df = pd.concat(dfs, ignore_index=True)\n",
    "\n",
    "# Save the combined DataFrame to a CSV file\n",
    "combined_df.to_csv('combined_lrps.csv', index=False)\n"
   ]
  },
  {
   "cell_type": "code",
   "execution_count": 37,
   "outputs": [],
   "source": [
    "combined_df.shape\n",
    "combined_df.to_csv('RMMS/combined_lrps.csv', index=False)"
   ],
   "metadata": {
    "collapsed": false,
    "ExecuteTime": {
     "end_time": "2024-03-29T14:44:23.925598800Z",
     "start_time": "2024-03-29T14:44:23.355063Z"
    }
   },
   "id": "fe23cedf5d577c58"
  },
  {
   "cell_type": "code",
   "execution_count": 9,
   "outputs": [
    {
     "data": {
      "text/plain": "  road                                            name   LRP  Offset  \\\n0   N1        Jatrabari - Int.with Z1101 (Left) (Left)  LRPS       0   \n1   N1       Jatrabari - Int.with Z1101 (Left) (Right)  LRPS       0   \n2   N1   Int.with Z1101 - Signboard (Left) R111 (Left)  LRPS     822   \n3   N1  Int.with Z1101 - Signboard (Left) R111 (Right)  LRPS     822   \n4   N1          Signboard - Shimrail (Left)R110 (Left)  LRPS    4175   \n\n   Chainage LRP.1  Offset.1  Chainage.1   (Km) Heavy Truck  ...     Car  \\\n0     0.000  LRPS       822       0.822  0.822       402.0  ...  1851.0   \n1     0.000  LRPS       822       0.822  0.822       660.0  ...  2608.0   \n2     0.822  LRPS      4175       4.175  3.353       660.0  ...  2608.0   \n3     0.822  LRPS      4175       4.175  3.353       402.0  ...  1851.0   \n4     4.175  LRPS      7181       7.181  3.006        91.0  ...  1690.0   \n\n  Auto Rickshaw Motor Cycle Bi-Cycle Cycle Rickshaw Cart Motorized  \\\n0        2980.0       398.0    232.0          889.0  0.0   18236.0   \n1        2508.0       436.0    213.0         1088.0  0.0   20236.0   \n2        2508.0       436.0    213.0         1088.0  0.0   20236.0   \n3        2980.0       398.0    232.0          889.0  0.0   18236.0   \n4        2266.0      1087.0     75.0         1198.0  0.0   16288.0   \n\n  Non Motorized Total AADT   (AADT)  \n0        1121.0    19357.0  19357.0  \n1        1301.0    21537.0  21537.0  \n2        1301.0    21537.0  21537.0  \n3        1121.0    19357.0  19357.0  \n4        1273.0    17561.0  17561.0  \n\n[5 rows x 26 columns]",
      "text/html": "<div>\n<style scoped>\n    .dataframe tbody tr th:only-of-type {\n        vertical-align: middle;\n    }\n\n    .dataframe tbody tr th {\n        vertical-align: top;\n    }\n\n    .dataframe thead th {\n        text-align: right;\n    }\n</style>\n<table border=\"1\" class=\"dataframe\">\n  <thead>\n    <tr style=\"text-align: right;\">\n      <th></th>\n      <th>road</th>\n      <th>name</th>\n      <th>LRP</th>\n      <th>Offset</th>\n      <th>Chainage</th>\n      <th>LRP.1</th>\n      <th>Offset.1</th>\n      <th>Chainage.1</th>\n      <th>(Km)</th>\n      <th>Heavy Truck</th>\n      <th>...</th>\n      <th>Car</th>\n      <th>Auto Rickshaw</th>\n      <th>Motor Cycle</th>\n      <th>Bi-Cycle</th>\n      <th>Cycle Rickshaw</th>\n      <th>Cart</th>\n      <th>Motorized</th>\n      <th>Non Motorized</th>\n      <th>Total AADT</th>\n      <th>(AADT)</th>\n    </tr>\n  </thead>\n  <tbody>\n    <tr>\n      <th>0</th>\n      <td>N1</td>\n      <td>Jatrabari - Int.with Z1101 (Left) (Left)</td>\n      <td>LRPS</td>\n      <td>0</td>\n      <td>0.000</td>\n      <td>LRPS</td>\n      <td>822</td>\n      <td>0.822</td>\n      <td>0.822</td>\n      <td>402.0</td>\n      <td>...</td>\n      <td>1851.0</td>\n      <td>2980.0</td>\n      <td>398.0</td>\n      <td>232.0</td>\n      <td>889.0</td>\n      <td>0.0</td>\n      <td>18236.0</td>\n      <td>1121.0</td>\n      <td>19357.0</td>\n      <td>19357.0</td>\n    </tr>\n    <tr>\n      <th>1</th>\n      <td>N1</td>\n      <td>Jatrabari - Int.with Z1101 (Left) (Right)</td>\n      <td>LRPS</td>\n      <td>0</td>\n      <td>0.000</td>\n      <td>LRPS</td>\n      <td>822</td>\n      <td>0.822</td>\n      <td>0.822</td>\n      <td>660.0</td>\n      <td>...</td>\n      <td>2608.0</td>\n      <td>2508.0</td>\n      <td>436.0</td>\n      <td>213.0</td>\n      <td>1088.0</td>\n      <td>0.0</td>\n      <td>20236.0</td>\n      <td>1301.0</td>\n      <td>21537.0</td>\n      <td>21537.0</td>\n    </tr>\n    <tr>\n      <th>2</th>\n      <td>N1</td>\n      <td>Int.with Z1101 - Signboard (Left) R111 (Left)</td>\n      <td>LRPS</td>\n      <td>822</td>\n      <td>0.822</td>\n      <td>LRPS</td>\n      <td>4175</td>\n      <td>4.175</td>\n      <td>3.353</td>\n      <td>660.0</td>\n      <td>...</td>\n      <td>2608.0</td>\n      <td>2508.0</td>\n      <td>436.0</td>\n      <td>213.0</td>\n      <td>1088.0</td>\n      <td>0.0</td>\n      <td>20236.0</td>\n      <td>1301.0</td>\n      <td>21537.0</td>\n      <td>21537.0</td>\n    </tr>\n    <tr>\n      <th>3</th>\n      <td>N1</td>\n      <td>Int.with Z1101 - Signboard (Left) R111 (Right)</td>\n      <td>LRPS</td>\n      <td>822</td>\n      <td>0.822</td>\n      <td>LRPS</td>\n      <td>4175</td>\n      <td>4.175</td>\n      <td>3.353</td>\n      <td>402.0</td>\n      <td>...</td>\n      <td>1851.0</td>\n      <td>2980.0</td>\n      <td>398.0</td>\n      <td>232.0</td>\n      <td>889.0</td>\n      <td>0.0</td>\n      <td>18236.0</td>\n      <td>1121.0</td>\n      <td>19357.0</td>\n      <td>19357.0</td>\n    </tr>\n    <tr>\n      <th>4</th>\n      <td>N1</td>\n      <td>Signboard - Shimrail (Left)R110 (Left)</td>\n      <td>LRPS</td>\n      <td>4175</td>\n      <td>4.175</td>\n      <td>LRPS</td>\n      <td>7181</td>\n      <td>7.181</td>\n      <td>3.006</td>\n      <td>91.0</td>\n      <td>...</td>\n      <td>1690.0</td>\n      <td>2266.0</td>\n      <td>1087.0</td>\n      <td>75.0</td>\n      <td>1198.0</td>\n      <td>0.0</td>\n      <td>16288.0</td>\n      <td>1273.0</td>\n      <td>17561.0</td>\n      <td>17561.0</td>\n    </tr>\n  </tbody>\n</table>\n<p>5 rows × 26 columns</p>\n</div>"
     },
     "execution_count": 9,
     "metadata": {},
     "output_type": "execute_result"
    }
   ],
   "source": [
    "import pandas as pd\n",
    "\n",
    "traffic_df = pd.read_csv('traffic.csv')\n",
    "traffic_df.head()"
   ],
   "metadata": {
    "collapsed": false,
    "ExecuteTime": {
     "end_time": "2024-04-01T17:49:25.567912800Z",
     "start_time": "2024-04-01T17:49:25.503612900Z"
    }
   },
   "id": "7bd0bcce64ab4ec5"
  },
  {
   "cell_type": "code",
   "execution_count": 12,
   "outputs": [
    {
     "data": {
      "text/plain": "  road                                            name LRP Start  \\\n0   N1        Jatrabari - Int.with Z1101 (Left) (Left)      LRPS   \n1   N1       Jatrabari - Int.with Z1101 (Left) (Right)      LRPS   \n2   N1   Int.with Z1101 - Signboard (Left) R111 (Left)      LRPS   \n3   N1  Int.with Z1101 - Signboard (Left) R111 (Right)      LRPS   \n4   N1          Signboard - Shimrail (Left)R110 (Left)      LRPS   \n\n   Offset Start  Chainage Start LRP End  Offset End  Chainage End   (Km)  \\\n0             0           0.000    LRPS         822         0.822  0.822   \n1             0           0.000    LRPS         822         0.822  0.822   \n2           822           0.822    LRPS        4175         4.175  3.353   \n3           822           0.822    LRPS        4175         4.175  3.353   \n4          4175           4.175    LRPS        7181         7.181  3.006   \n\n  Heavy Truck  ...     Car Auto Rickshaw Motor Cycle Bi-Cycle Cycle Rickshaw  \\\n0       402.0  ...  1851.0        2980.0       398.0    232.0          889.0   \n1       660.0  ...  2608.0        2508.0       436.0    213.0         1088.0   \n2       660.0  ...  2608.0        2508.0       436.0    213.0         1088.0   \n3       402.0  ...  1851.0        2980.0       398.0    232.0          889.0   \n4        91.0  ...  1690.0        2266.0      1087.0     75.0         1198.0   \n\n  Cart Motorized Non Motorized Total AADT   (AADT)  \n0  0.0   18236.0        1121.0    19357.0  19357.0  \n1  0.0   20236.0        1301.0    21537.0  21537.0  \n2  0.0   20236.0        1301.0    21537.0  21537.0  \n3  0.0   18236.0        1121.0    19357.0  19357.0  \n4  0.0   16288.0        1273.0    17561.0  17561.0  \n\n[5 rows x 26 columns]",
      "text/html": "<div>\n<style scoped>\n    .dataframe tbody tr th:only-of-type {\n        vertical-align: middle;\n    }\n\n    .dataframe tbody tr th {\n        vertical-align: top;\n    }\n\n    .dataframe thead th {\n        text-align: right;\n    }\n</style>\n<table border=\"1\" class=\"dataframe\">\n  <thead>\n    <tr style=\"text-align: right;\">\n      <th></th>\n      <th>road</th>\n      <th>name</th>\n      <th>LRP Start</th>\n      <th>Offset Start</th>\n      <th>Chainage Start</th>\n      <th>LRP End</th>\n      <th>Offset End</th>\n      <th>Chainage End</th>\n      <th>(Km)</th>\n      <th>Heavy Truck</th>\n      <th>...</th>\n      <th>Car</th>\n      <th>Auto Rickshaw</th>\n      <th>Motor Cycle</th>\n      <th>Bi-Cycle</th>\n      <th>Cycle Rickshaw</th>\n      <th>Cart</th>\n      <th>Motorized</th>\n      <th>Non Motorized</th>\n      <th>Total AADT</th>\n      <th>(AADT)</th>\n    </tr>\n  </thead>\n  <tbody>\n    <tr>\n      <th>0</th>\n      <td>N1</td>\n      <td>Jatrabari - Int.with Z1101 (Left) (Left)</td>\n      <td>LRPS</td>\n      <td>0</td>\n      <td>0.000</td>\n      <td>LRPS</td>\n      <td>822</td>\n      <td>0.822</td>\n      <td>0.822</td>\n      <td>402.0</td>\n      <td>...</td>\n      <td>1851.0</td>\n      <td>2980.0</td>\n      <td>398.0</td>\n      <td>232.0</td>\n      <td>889.0</td>\n      <td>0.0</td>\n      <td>18236.0</td>\n      <td>1121.0</td>\n      <td>19357.0</td>\n      <td>19357.0</td>\n    </tr>\n    <tr>\n      <th>1</th>\n      <td>N1</td>\n      <td>Jatrabari - Int.with Z1101 (Left) (Right)</td>\n      <td>LRPS</td>\n      <td>0</td>\n      <td>0.000</td>\n      <td>LRPS</td>\n      <td>822</td>\n      <td>0.822</td>\n      <td>0.822</td>\n      <td>660.0</td>\n      <td>...</td>\n      <td>2608.0</td>\n      <td>2508.0</td>\n      <td>436.0</td>\n      <td>213.0</td>\n      <td>1088.0</td>\n      <td>0.0</td>\n      <td>20236.0</td>\n      <td>1301.0</td>\n      <td>21537.0</td>\n      <td>21537.0</td>\n    </tr>\n    <tr>\n      <th>2</th>\n      <td>N1</td>\n      <td>Int.with Z1101 - Signboard (Left) R111 (Left)</td>\n      <td>LRPS</td>\n      <td>822</td>\n      <td>0.822</td>\n      <td>LRPS</td>\n      <td>4175</td>\n      <td>4.175</td>\n      <td>3.353</td>\n      <td>660.0</td>\n      <td>...</td>\n      <td>2608.0</td>\n      <td>2508.0</td>\n      <td>436.0</td>\n      <td>213.0</td>\n      <td>1088.0</td>\n      <td>0.0</td>\n      <td>20236.0</td>\n      <td>1301.0</td>\n      <td>21537.0</td>\n      <td>21537.0</td>\n    </tr>\n    <tr>\n      <th>3</th>\n      <td>N1</td>\n      <td>Int.with Z1101 - Signboard (Left) R111 (Right)</td>\n      <td>LRPS</td>\n      <td>822</td>\n      <td>0.822</td>\n      <td>LRPS</td>\n      <td>4175</td>\n      <td>4.175</td>\n      <td>3.353</td>\n      <td>402.0</td>\n      <td>...</td>\n      <td>1851.0</td>\n      <td>2980.0</td>\n      <td>398.0</td>\n      <td>232.0</td>\n      <td>889.0</td>\n      <td>0.0</td>\n      <td>18236.0</td>\n      <td>1121.0</td>\n      <td>19357.0</td>\n      <td>19357.0</td>\n    </tr>\n    <tr>\n      <th>4</th>\n      <td>N1</td>\n      <td>Signboard - Shimrail (Left)R110 (Left)</td>\n      <td>LRPS</td>\n      <td>4175</td>\n      <td>4.175</td>\n      <td>LRPS</td>\n      <td>7181</td>\n      <td>7.181</td>\n      <td>3.006</td>\n      <td>91.0</td>\n      <td>...</td>\n      <td>1690.0</td>\n      <td>2266.0</td>\n      <td>1087.0</td>\n      <td>75.0</td>\n      <td>1198.0</td>\n      <td>0.0</td>\n      <td>16288.0</td>\n      <td>1273.0</td>\n      <td>17561.0</td>\n      <td>17561.0</td>\n    </tr>\n  </tbody>\n</table>\n<p>5 rows × 26 columns</p>\n</div>"
     },
     "execution_count": 12,
     "metadata": {},
     "output_type": "execute_result"
    }
   ],
   "source": [
    "traffic_df= traffic_df.rename(columns = { 'LRP':'LRP Start', 'Offset': 'Offset Start', 'Chainage':'Chainage Start', 'LRP.1':'LRP End', 'Offset.1': 'Offset End', 'Chainage.1':'Chainage End'})\n",
    "traffic_df.head()"
   ],
   "metadata": {
    "collapsed": false,
    "ExecuteTime": {
     "end_time": "2024-04-01T17:52:28.009256700Z",
     "start_time": "2024-04-01T17:52:27.958725600Z"
    }
   },
   "id": "5eb02de68fdad660"
  },
  {
   "cell_type": "code",
   "execution_count": 18,
   "outputs": [],
   "source": [
    "# Gaat hier nu alleen op LRP nummer maar moet ook nog op weg nummer (bv N1 of Z8004), even uitzoeken hoe dit werkt. \n",
    "combined_lrps = pd.read_csv('combined_lrps.csv')\n",
    "\n",
    "latlonload = pd.merge(traffic_df, combined_lrps, left_on='LRP Start', right_on='LRP No' )"
   ],
   "metadata": {
    "collapsed": false,
    "ExecuteTime": {
     "end_time": "2024-04-01T18:00:55.824872200Z",
     "start_time": "2024-04-01T18:00:52.932733900Z"
    }
   },
   "id": "7114780687549dcc"
  },
  {
   "cell_type": "code",
   "execution_count": 20,
   "outputs": [
    {
     "data": {
      "text/plain": "          road                                    name LRP Start  \\\n3665444  Z8004  Kakaldi(int.with Z8005)-Int.with Z8203   LRP007c   \n3665445  Z8004  Kakaldi(int.with Z8005)-Int.with Z8203   LRP007c   \n3665446  Z8004  Kakaldi(int.with Z8005)-Int.with Z8203   LRP007c   \n3665447  Z8004  Kakaldi(int.with Z8005)-Int.with Z8203   LRP007c   \n3665448  Z8004  Kakaldi(int.with Z8005)-Int.with Z8203   LRP007c   \n3665449  Z8004  Kakaldi(int.with Z8005)-Int.with Z8203   LRP007c   \n3665450  Z8004  Kakaldi(int.with Z8005)-Int.with Z8203   LRP007c   \n3665451  Z8004  Kakaldi(int.with Z8005)-Int.with Z8203   LRP007c   \n3665452  Z8004  Kakaldi(int.with Z8005)-Int.with Z8203   LRP007c   \n3665453  Z8004  Kakaldi(int.with Z8005)-Int.with Z8203   LRP007c   \n\n         Offset Start  Chainage Start LRP End  Offset End  Chainage End  (Km)  \\\n3665444             0            7.61  LRP012        4800          16.8  9.19   \n3665445             0            7.61  LRP012        4800          16.8  9.19   \n3665446             0            7.61  LRP012        4800          16.8  9.19   \n3665447             0            7.61  LRP012        4800          16.8  9.19   \n3665448             0            7.61  LRP012        4800          16.8  9.19   \n3665449             0            7.61  LRP012        4800          16.8  9.19   \n3665450             0            7.61  LRP012        4800          16.8  9.19   \n3665451             0            7.61  LRP012        4800          16.8  9.19   \n3665452             0            7.61  LRP012        4800          16.8  9.19   \n3665453             0            7.61  LRP012        4800          16.8  9.19   \n\n        Heavy Truck  ... Non Motorized Total AADT (AADT)   LRP No  \\\n3665444          NS  ...            NS         NS  *  NS  LRP007c   \n3665445          NS  ...            NS         NS  *  NS  LRP007c   \n3665446          NS  ...            NS         NS  *  NS  LRP007c   \n3665447          NS  ...            NS         NS  *  NS  LRP007c   \n3665448          NS  ...            NS         NS  *  NS  LRP007c   \n3665449          NS  ...            NS         NS  *  NS  LRP007c   \n3665450          NS  ...            NS         NS  *  NS  LRP007c   \n3665451          NS  ...            NS         NS  *  NS  LRP007c   \n3665452          NS  ...            NS         NS  *  NS  LRP007c   \n3665453          NS  ...            NS         NS  *  NS  LRP007c   \n\n        Road Chainage LRP TYPE  Description Latitude Decimal  \\\n3665444          7.14   Others    Canal end        22.694083   \n3665445          7.67  Culvert      culvert       22.4294716   \n3665446           7.7  Culvert  Box Culvert       22.4294716   \n3665447          7.67  Culvert      culvert       22.4294716   \n3665448           7.7  Culvert  Box Culvert       22.4294716   \n3665449          7.67  Culvert      culvert       22.4294716   \n3665450           7.7  Culvert  Box Culvert       22.4294716   \n3665451         7.819  Culvert  Box Culvert       22.2380274   \n3665452         7.819  Culvert  Box Culvert       22.2380274   \n3665453         7.819  Culvert  Box Culvert       22.2380274   \n\n        Longitued Decimal road_number  \n3665444        90.1463886       Z8716  \n3665445        90.0509444       Z8740  \n3665446        90.0509444       Z8740  \n3665447        90.0509444       Z8740  \n3665448        90.0509444       Z8740  \n3665449        90.0509444       Z8740  \n3665450        90.0509444       Z8740  \n3665451        90.0687493       Z8814  \n3665452        90.0687493       Z8814  \n3665453        90.0687493       Z8814  \n\n[10 rows x 33 columns]",
      "text/html": "<div>\n<style scoped>\n    .dataframe tbody tr th:only-of-type {\n        vertical-align: middle;\n    }\n\n    .dataframe tbody tr th {\n        vertical-align: top;\n    }\n\n    .dataframe thead th {\n        text-align: right;\n    }\n</style>\n<table border=\"1\" class=\"dataframe\">\n  <thead>\n    <tr style=\"text-align: right;\">\n      <th></th>\n      <th>road</th>\n      <th>name</th>\n      <th>LRP Start</th>\n      <th>Offset Start</th>\n      <th>Chainage Start</th>\n      <th>LRP End</th>\n      <th>Offset End</th>\n      <th>Chainage End</th>\n      <th>(Km)</th>\n      <th>Heavy Truck</th>\n      <th>...</th>\n      <th>Non Motorized</th>\n      <th>Total AADT</th>\n      <th>(AADT)</th>\n      <th>LRP No</th>\n      <th>Road Chainage</th>\n      <th>LRP TYPE</th>\n      <th>Description</th>\n      <th>Latitude Decimal</th>\n      <th>Longitued Decimal</th>\n      <th>road_number</th>\n    </tr>\n  </thead>\n  <tbody>\n    <tr>\n      <th>3665444</th>\n      <td>Z8004</td>\n      <td>Kakaldi(int.with Z8005)-Int.with Z8203</td>\n      <td>LRP007c</td>\n      <td>0</td>\n      <td>7.61</td>\n      <td>LRP012</td>\n      <td>4800</td>\n      <td>16.8</td>\n      <td>9.19</td>\n      <td>NS</td>\n      <td>...</td>\n      <td>NS</td>\n      <td>NS</td>\n      <td>*  NS</td>\n      <td>LRP007c</td>\n      <td>7.14</td>\n      <td>Others</td>\n      <td>Canal end</td>\n      <td>22.694083</td>\n      <td>90.1463886</td>\n      <td>Z8716</td>\n    </tr>\n    <tr>\n      <th>3665445</th>\n      <td>Z8004</td>\n      <td>Kakaldi(int.with Z8005)-Int.with Z8203</td>\n      <td>LRP007c</td>\n      <td>0</td>\n      <td>7.61</td>\n      <td>LRP012</td>\n      <td>4800</td>\n      <td>16.8</td>\n      <td>9.19</td>\n      <td>NS</td>\n      <td>...</td>\n      <td>NS</td>\n      <td>NS</td>\n      <td>*  NS</td>\n      <td>LRP007c</td>\n      <td>7.67</td>\n      <td>Culvert</td>\n      <td>culvert</td>\n      <td>22.4294716</td>\n      <td>90.0509444</td>\n      <td>Z8740</td>\n    </tr>\n    <tr>\n      <th>3665446</th>\n      <td>Z8004</td>\n      <td>Kakaldi(int.with Z8005)-Int.with Z8203</td>\n      <td>LRP007c</td>\n      <td>0</td>\n      <td>7.61</td>\n      <td>LRP012</td>\n      <td>4800</td>\n      <td>16.8</td>\n      <td>9.19</td>\n      <td>NS</td>\n      <td>...</td>\n      <td>NS</td>\n      <td>NS</td>\n      <td>*  NS</td>\n      <td>LRP007c</td>\n      <td>7.7</td>\n      <td>Culvert</td>\n      <td>Box Culvert</td>\n      <td>22.4294716</td>\n      <td>90.0509444</td>\n      <td>Z8740</td>\n    </tr>\n    <tr>\n      <th>3665447</th>\n      <td>Z8004</td>\n      <td>Kakaldi(int.with Z8005)-Int.with Z8203</td>\n      <td>LRP007c</td>\n      <td>0</td>\n      <td>7.61</td>\n      <td>LRP012</td>\n      <td>4800</td>\n      <td>16.8</td>\n      <td>9.19</td>\n      <td>NS</td>\n      <td>...</td>\n      <td>NS</td>\n      <td>NS</td>\n      <td>*  NS</td>\n      <td>LRP007c</td>\n      <td>7.67</td>\n      <td>Culvert</td>\n      <td>culvert</td>\n      <td>22.4294716</td>\n      <td>90.0509444</td>\n      <td>Z8740</td>\n    </tr>\n    <tr>\n      <th>3665448</th>\n      <td>Z8004</td>\n      <td>Kakaldi(int.with Z8005)-Int.with Z8203</td>\n      <td>LRP007c</td>\n      <td>0</td>\n      <td>7.61</td>\n      <td>LRP012</td>\n      <td>4800</td>\n      <td>16.8</td>\n      <td>9.19</td>\n      <td>NS</td>\n      <td>...</td>\n      <td>NS</td>\n      <td>NS</td>\n      <td>*  NS</td>\n      <td>LRP007c</td>\n      <td>7.7</td>\n      <td>Culvert</td>\n      <td>Box Culvert</td>\n      <td>22.4294716</td>\n      <td>90.0509444</td>\n      <td>Z8740</td>\n    </tr>\n    <tr>\n      <th>3665449</th>\n      <td>Z8004</td>\n      <td>Kakaldi(int.with Z8005)-Int.with Z8203</td>\n      <td>LRP007c</td>\n      <td>0</td>\n      <td>7.61</td>\n      <td>LRP012</td>\n      <td>4800</td>\n      <td>16.8</td>\n      <td>9.19</td>\n      <td>NS</td>\n      <td>...</td>\n      <td>NS</td>\n      <td>NS</td>\n      <td>*  NS</td>\n      <td>LRP007c</td>\n      <td>7.67</td>\n      <td>Culvert</td>\n      <td>culvert</td>\n      <td>22.4294716</td>\n      <td>90.0509444</td>\n      <td>Z8740</td>\n    </tr>\n    <tr>\n      <th>3665450</th>\n      <td>Z8004</td>\n      <td>Kakaldi(int.with Z8005)-Int.with Z8203</td>\n      <td>LRP007c</td>\n      <td>0</td>\n      <td>7.61</td>\n      <td>LRP012</td>\n      <td>4800</td>\n      <td>16.8</td>\n      <td>9.19</td>\n      <td>NS</td>\n      <td>...</td>\n      <td>NS</td>\n      <td>NS</td>\n      <td>*  NS</td>\n      <td>LRP007c</td>\n      <td>7.7</td>\n      <td>Culvert</td>\n      <td>Box Culvert</td>\n      <td>22.4294716</td>\n      <td>90.0509444</td>\n      <td>Z8740</td>\n    </tr>\n    <tr>\n      <th>3665451</th>\n      <td>Z8004</td>\n      <td>Kakaldi(int.with Z8005)-Int.with Z8203</td>\n      <td>LRP007c</td>\n      <td>0</td>\n      <td>7.61</td>\n      <td>LRP012</td>\n      <td>4800</td>\n      <td>16.8</td>\n      <td>9.19</td>\n      <td>NS</td>\n      <td>...</td>\n      <td>NS</td>\n      <td>NS</td>\n      <td>*  NS</td>\n      <td>LRP007c</td>\n      <td>7.819</td>\n      <td>Culvert</td>\n      <td>Box Culvert</td>\n      <td>22.2380274</td>\n      <td>90.0687493</td>\n      <td>Z8814</td>\n    </tr>\n    <tr>\n      <th>3665452</th>\n      <td>Z8004</td>\n      <td>Kakaldi(int.with Z8005)-Int.with Z8203</td>\n      <td>LRP007c</td>\n      <td>0</td>\n      <td>7.61</td>\n      <td>LRP012</td>\n      <td>4800</td>\n      <td>16.8</td>\n      <td>9.19</td>\n      <td>NS</td>\n      <td>...</td>\n      <td>NS</td>\n      <td>NS</td>\n      <td>*  NS</td>\n      <td>LRP007c</td>\n      <td>7.819</td>\n      <td>Culvert</td>\n      <td>Box Culvert</td>\n      <td>22.2380274</td>\n      <td>90.0687493</td>\n      <td>Z8814</td>\n    </tr>\n    <tr>\n      <th>3665453</th>\n      <td>Z8004</td>\n      <td>Kakaldi(int.with Z8005)-Int.with Z8203</td>\n      <td>LRP007c</td>\n      <td>0</td>\n      <td>7.61</td>\n      <td>LRP012</td>\n      <td>4800</td>\n      <td>16.8</td>\n      <td>9.19</td>\n      <td>NS</td>\n      <td>...</td>\n      <td>NS</td>\n      <td>NS</td>\n      <td>*  NS</td>\n      <td>LRP007c</td>\n      <td>7.819</td>\n      <td>Culvert</td>\n      <td>Box Culvert</td>\n      <td>22.2380274</td>\n      <td>90.0687493</td>\n      <td>Z8814</td>\n    </tr>\n  </tbody>\n</table>\n<p>10 rows × 33 columns</p>\n</div>"
     },
     "execution_count": 20,
     "metadata": {},
     "output_type": "execute_result"
    }
   ],
   "source": [
    "latlonload.tail(10)"
   ],
   "metadata": {
    "collapsed": false,
    "ExecuteTime": {
     "end_time": "2024-04-01T18:01:51.893540Z",
     "start_time": "2024-04-01T18:01:51.878471400Z"
    }
   },
   "id": "ad0fdec97727faa4"
  }
 ],
 "metadata": {
  "kernelspec": {
   "display_name": "Python 3",
   "language": "python",
   "name": "python3"
  },
  "language_info": {
   "codemirror_mode": {
    "name": "ipython",
    "version": 2
   },
   "file_extension": ".py",
   "mimetype": "text/x-python",
   "name": "python",
   "nbconvert_exporter": "python",
   "pygments_lexer": "ipython2",
   "version": "2.7.6"
  }
 },
 "nbformat": 4,
 "nbformat_minor": 5
}
